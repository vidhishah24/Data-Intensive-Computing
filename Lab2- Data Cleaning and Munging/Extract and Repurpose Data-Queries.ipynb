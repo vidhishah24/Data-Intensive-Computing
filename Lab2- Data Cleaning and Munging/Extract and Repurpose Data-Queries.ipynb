{
 "cells": [
  {
   "cell_type": "markdown",
   "metadata": {},
   "source": [
    "<div id=\"header\">\n",
    "        <p style=\"float: left; width: 34%; text-align: left;\">VIDHI JATIN SHAH</p>\n",
    "    <h1 style=\"float: left; width: 33%; text-align: center;\">LAB 2-Activity 2 Queries</h1>\n",
    "    <p style=\"float: left; width: 33%; text-align: right;\">UBPerson No:50207090</p>\n",
    "</div>"
   ]
  },
  {
   "cell_type": "markdown",
   "metadata": {},
   "source": [
    "1. Imports all the important libraries\n",
    "  * RSQLite<-Working with SQL database\n",
    "  * dplyr<-Working with SQL database\n",
    "  * sqldf<-to use sql statements on dataframe \n",
    "  * plyr<-Use for combining two dataframes"
   ]
  },
  {
   "cell_type": "code",
   "execution_count": 1,
   "metadata": {
    "collapsed": false
   },
   "outputs": [
    {
     "name": "stderr",
     "output_type": "stream",
     "text": [
      "\n",
      "Attaching package: 'dplyr'\n",
      "\n",
      "The following objects are masked from 'package:stats':\n",
      "\n",
      "    filter, lag\n",
      "\n",
      "The following objects are masked from 'package:base':\n",
      "\n",
      "    intersect, setdiff, setequal, union\n",
      "\n",
      "Warning message:\n",
      "\"package 'sqldf' was built under R version 3.3.3\"Loading required package: gsubfn\n",
      "Loading required package: proto\n",
      "Could not load tcltk.  Will use slower R code instead.\n",
      "------------------------------------------------------------------------------\n",
      "You have loaded plyr after dplyr - this is likely to cause problems.\n",
      "If you need functions from both plyr and dplyr, please load plyr first, then dplyr:\n",
      "library(plyr); library(dplyr)\n",
      "------------------------------------------------------------------------------\n",
      "\n",
      "Attaching package: 'plyr'\n",
      "\n",
      "The following objects are masked from 'package:dplyr':\n",
      "\n",
      "    arrange, count, desc, failwith, id, mutate, rename, summarise,\n",
      "    summarize\n",
      "\n"
     ]
    }
   ],
   "source": [
    "library(\"RSQLite\")\n",
    "library(\"dplyr\")\n",
    "library(\"sqldf\")\n",
    "library(plyr)"
   ]
  },
  {
   "cell_type": "markdown",
   "metadata": {},
   "source": [
    "* Read the Player csv file created earlier"
   ]
  },
  {
   "cell_type": "code",
   "execution_count": 2,
   "metadata": {
    "collapsed": true
   },
   "outputs": [],
   "source": [
    "NewPlayers<- (read.csv(file=\"Player.csv\",head=TRUE,sep=\",\"))"
   ]
  },
  {
   "cell_type": "markdown",
   "metadata": {},
   "source": [
    "<b>Question 1: Which are the top 10 players by overall rating?</b>\n",
    "* Select player_api_id,player_name and overall_rating columns from Player table and sort it in the descending order of overall_rating.\n",
    "* order by is used to sort.\n",
    "* LIMIT 10 prints only the top 10 results."
   ]
  },
  {
   "cell_type": "code",
   "execution_count": 3,
   "metadata": {
    "collapsed": false
   },
   "outputs": [
    {
     "name": "stderr",
     "output_type": "stream",
     "text": [
      "Warning message:\n",
      "\"Quoted identifiers should have class SQL, use DBI::SQL() if the caller performs the quoting.\""
     ]
    },
    {
     "data": {
      "text/html": [
       "<table>\n",
       "<thead><tr><th scope=col>player_api_id</th><th scope=col>player_name</th><th scope=col>overall_rating</th></tr></thead>\n",
       "<tbody>\n",
       "\t<tr><td>30981            </td><td>Lionel Messi     </td><td>94               </td></tr>\n",
       "\t<tr><td>30717            </td><td>Gianluigi Buffon </td><td>93               </td></tr>\n",
       "\t<tr><td>30829            </td><td>Wayne Rooney     </td><td>93               </td></tr>\n",
       "\t<tr><td>30893            </td><td>Cristiano Ronaldo</td><td>93               </td></tr>\n",
       "\t<tr><td>39854            </td><td>Xavi Hernandez   </td><td>92               </td></tr>\n",
       "\t<tr><td>39989            </td><td>Gregory Coupet   </td><td>92               </td></tr>\n",
       "\t<tr><td>30626            </td><td>Thierry Henry    </td><td>91               </td></tr>\n",
       "\t<tr><td>30627            </td><td>John Terry       </td><td>91               </td></tr>\n",
       "\t<tr><td>30657            </td><td>Iker Casillas    </td><td>91               </td></tr>\n",
       "\t<tr><td>30723            </td><td>Alessandro Nesta </td><td>91               </td></tr>\n",
       "</tbody>\n",
       "</table>\n"
      ],
      "text/latex": [
       "\\begin{tabular}{r|lll}\n",
       " player\\_api\\_id & player\\_name & overall\\_rating\\\\\n",
       "\\hline\n",
       "\t 30981             & Lionel Messi      & 94               \\\\\n",
       "\t 30717             & Gianluigi Buffon  & 93               \\\\\n",
       "\t 30829             & Wayne Rooney      & 93               \\\\\n",
       "\t 30893             & Cristiano Ronaldo & 93               \\\\\n",
       "\t 39854             & Xavi Hernandez    & 92               \\\\\n",
       "\t 39989             & Gregory Coupet    & 92               \\\\\n",
       "\t 30626             & Thierry Henry     & 91               \\\\\n",
       "\t 30627             & John Terry        & 91               \\\\\n",
       "\t 30657             & Iker Casillas     & 91               \\\\\n",
       "\t 30723             & Alessandro Nesta  & 91               \\\\\n",
       "\\end{tabular}\n"
      ],
      "text/markdown": [
       "\n",
       "player_api_id | player_name | overall_rating | \n",
       "|---|---|---|---|---|---|---|---|---|---|\n",
       "| 30981             | Lionel Messi      | 94                | \n",
       "| 30717             | Gianluigi Buffon  | 93                | \n",
       "| 30829             | Wayne Rooney      | 93                | \n",
       "| 30893             | Cristiano Ronaldo | 93                | \n",
       "| 39854             | Xavi Hernandez    | 92                | \n",
       "| 39989             | Gregory Coupet    | 92                | \n",
       "| 30626             | Thierry Henry     | 91                | \n",
       "| 30627             | John Terry        | 91                | \n",
       "| 30657             | Iker Casillas     | 91                | \n",
       "| 30723             | Alessandro Nesta  | 91                | \n",
       "\n",
       "\n"
      ],
      "text/plain": [
       "   player_api_id player_name       overall_rating\n",
       "1  30981         Lionel Messi      94            \n",
       "2  30717         Gianluigi Buffon  93            \n",
       "3  30829         Wayne Rooney      93            \n",
       "4  30893         Cristiano Ronaldo 93            \n",
       "5  39854         Xavi Hernandez    92            \n",
       "6  39989         Gregory Coupet    92            \n",
       "7  30626         Thierry Henry     91            \n",
       "8  30627         John Terry        91            \n",
       "9  30657         Iker Casillas     91            \n",
       "10 30723         Alessandro Nesta  91            "
      ]
     },
     "metadata": {},
     "output_type": "display_data"
    }
   ],
   "source": [
    "sqldf(\"Select player_api_id,player_name,overall_rating from NewPlayers order by overall_rating DESC LIMIT 10\")"
   ]
  },
  {
   "cell_type": "markdown",
   "metadata": {},
   "source": [
    "<b>Question 2: Which are the top 10 goalkeepers by sum of gk attributes?</b>\n",
    "* Select player_api_id,player_name and gk columns from Player table and sort it in the descending order of gk attributes.\n",
    "* order by is used to sort.\n",
    "* LIMIT 10 prints only the top 10 results."
   ]
  },
  {
   "cell_type": "code",
   "execution_count": 12,
   "metadata": {
    "collapsed": false
   },
   "outputs": [
    {
     "data": {
      "text/html": [
       "<table>\n",
       "<thead><tr><th scope=col>player_api_id</th><th scope=col>player_name</th><th scope=col>gk</th></tr></thead>\n",
       "<tbody>\n",
       "\t<tr><td> 30717           </td><td>Gianluigi Buffon </td><td>449              </td></tr>\n",
       "\t<tr><td> 39989           </td><td>Gregory Coupet   </td><td>447              </td></tr>\n",
       "\t<tr><td> 30859           </td><td>Petr Cech        </td><td>445              </td></tr>\n",
       "\t<tr><td> 30657           </td><td>Iker Casillas    </td><td>442              </td></tr>\n",
       "\t<tr><td> 27299           </td><td>Manuel Neuer     </td><td>440              </td></tr>\n",
       "\t<tr><td> 30989           </td><td>Julio Cesar      </td><td>438              </td></tr>\n",
       "\t<tr><td> 24503           </td><td>Sebastian Frey   </td><td>437              </td></tr>\n",
       "\t<tr><td> 30726           </td><td>Edwin van der Sar</td><td>436              </td></tr>\n",
       "\t<tr><td>182917           </td><td>David De Gea     </td><td>429              </td></tr>\n",
       "\t<tr><td> 30660           </td><td>Pepe Reina       </td><td>428              </td></tr>\n",
       "</tbody>\n",
       "</table>\n"
      ],
      "text/latex": [
       "\\begin{tabular}{r|lll}\n",
       " player\\_api\\_id & player\\_name & gk\\\\\n",
       "\\hline\n",
       "\t  30717            & Gianluigi Buffon  & 449              \\\\\n",
       "\t  39989            & Gregory Coupet    & 447              \\\\\n",
       "\t  30859            & Petr Cech         & 445              \\\\\n",
       "\t  30657            & Iker Casillas     & 442              \\\\\n",
       "\t  27299            & Manuel Neuer      & 440              \\\\\n",
       "\t  30989            & Julio Cesar       & 438              \\\\\n",
       "\t  24503            & Sebastian Frey    & 437              \\\\\n",
       "\t  30726            & Edwin van der Sar & 436              \\\\\n",
       "\t 182917            & David De Gea      & 429              \\\\\n",
       "\t  30660            & Pepe Reina        & 428              \\\\\n",
       "\\end{tabular}\n"
      ],
      "text/markdown": [
       "\n",
       "player_api_id | player_name | gk | \n",
       "|---|---|---|---|---|---|---|---|---|---|\n",
       "|  30717            | Gianluigi Buffon  | 449               | \n",
       "|  39989            | Gregory Coupet    | 447               | \n",
       "|  30859            | Petr Cech         | 445               | \n",
       "|  30657            | Iker Casillas     | 442               | \n",
       "|  27299            | Manuel Neuer      | 440               | \n",
       "|  30989            | Julio Cesar       | 438               | \n",
       "|  24503            | Sebastian Frey    | 437               | \n",
       "|  30726            | Edwin van der Sar | 436               | \n",
       "| 182917            | David De Gea      | 429               | \n",
       "|  30660            | Pepe Reina        | 428               | \n",
       "\n",
       "\n"
      ],
      "text/plain": [
       "   player_api_id player_name       gk \n",
       "1   30717        Gianluigi Buffon  449\n",
       "2   39989        Gregory Coupet    447\n",
       "3   30859        Petr Cech         445\n",
       "4   30657        Iker Casillas     442\n",
       "5   27299        Manuel Neuer      440\n",
       "6   30989        Julio Cesar       438\n",
       "7   24503        Sebastian Frey    437\n",
       "8   30726        Edwin van der Sar 436\n",
       "9  182917        David De Gea      429\n",
       "10  30660        Pepe Reina        428"
      ]
     },
     "metadata": {},
     "output_type": "display_data"
    }
   ],
   "source": [
    "sqldf(\"Select player_api_id,player_name,gk from NewPlayers order by gk DESC LIMIT 10\")"
   ]
  },
  {
   "cell_type": "markdown",
   "metadata": {},
   "source": [
    "<b>Question 3: Which are the top 10 players by number of appearances (with any team they played with)?</b>\n",
    "* Select player_api_id,player_name and appearances columns from Player table and sort it in the descending order of number of appearances each player made.\n",
    "* order by is used to sort.\n",
    "* LIMIT 10 prints only the top 10 results."
   ]
  },
  {
   "cell_type": "code",
   "execution_count": 5,
   "metadata": {
    "collapsed": false
   },
   "outputs": [
    {
     "data": {
      "text/html": [
       "<table>\n",
       "<thead><tr><th scope=col>player_api_id</th><th scope=col>player_name</th><th scope=col>appearances</th></tr></thead>\n",
       "<tbody>\n",
       "\t<tr><td>31293               </td><td>Steve Mandanda      </td><td>300                 </td></tr>\n",
       "\t<tr><td>41097               </td><td>Stephane Ruffier    </td><td>294                 </td></tr>\n",
       "\t<tr><td>33764               </td><td>Gorka Iraizoz Moreno</td><td>286                 </td></tr>\n",
       "\t<tr><td>42422               </td><td>Samir Handanovic    </td><td>286                 </td></tr>\n",
       "\t<tr><td>26295               </td><td>Hugo Lloris         </td><td>282                 </td></tr>\n",
       "\t<tr><td>31465               </td><td>Tim Howard          </td><td>282                 </td></tr>\n",
       "\t<tr><td>31432               </td><td>Joe Hart            </td><td>275                 </td></tr>\n",
       "\t<tr><td>26168               </td><td>Cedric Carrasso     </td><td>268                 </td></tr>\n",
       "\t<tr><td>26399               </td><td>Daniel Congre       </td><td>262                 </td></tr>\n",
       "\t<tr><td>94550               </td><td>Moussa Sissoko      </td><td>260                 </td></tr>\n",
       "</tbody>\n",
       "</table>\n"
      ],
      "text/latex": [
       "\\begin{tabular}{r|lll}\n",
       " player\\_api\\_id & player\\_name & appearances\\\\\n",
       "\\hline\n",
       "\t 31293                & Steve Mandanda       & 300                 \\\\\n",
       "\t 41097                & Stephane Ruffier     & 294                 \\\\\n",
       "\t 33764                & Gorka Iraizoz Moreno & 286                 \\\\\n",
       "\t 42422                & Samir Handanovic     & 286                 \\\\\n",
       "\t 26295                & Hugo Lloris          & 282                 \\\\\n",
       "\t 31465                & Tim Howard           & 282                 \\\\\n",
       "\t 31432                & Joe Hart             & 275                 \\\\\n",
       "\t 26168                & Cedric Carrasso      & 268                 \\\\\n",
       "\t 26399                & Daniel Congre        & 262                 \\\\\n",
       "\t 94550                & Moussa Sissoko       & 260                 \\\\\n",
       "\\end{tabular}\n"
      ],
      "text/markdown": [
       "\n",
       "player_api_id | player_name | appearances | \n",
       "|---|---|---|---|---|---|---|---|---|---|\n",
       "| 31293                | Steve Mandanda       | 300                  | \n",
       "| 41097                | Stephane Ruffier     | 294                  | \n",
       "| 33764                | Gorka Iraizoz Moreno | 286                  | \n",
       "| 42422                | Samir Handanovic     | 286                  | \n",
       "| 26295                | Hugo Lloris          | 282                  | \n",
       "| 31465                | Tim Howard           | 282                  | \n",
       "| 31432                | Joe Hart             | 275                  | \n",
       "| 26168                | Cedric Carrasso      | 268                  | \n",
       "| 26399                | Daniel Congre        | 262                  | \n",
       "| 94550                | Moussa Sissoko       | 260                  | \n",
       "\n",
       "\n"
      ],
      "text/plain": [
       "   player_api_id player_name          appearances\n",
       "1  31293         Steve Mandanda       300        \n",
       "2  41097         Stephane Ruffier     294        \n",
       "3  33764         Gorka Iraizoz Moreno 286        \n",
       "4  42422         Samir Handanovic     286        \n",
       "5  26295         Hugo Lloris          282        \n",
       "6  31465         Tim Howard           282        \n",
       "7  31432         Joe Hart             275        \n",
       "8  26168         Cedric Carrasso      268        \n",
       "9  26399         Daniel Congre        262        \n",
       "10 94550         Moussa Sissoko       260        "
      ]
     },
     "metadata": {},
     "output_type": "display_data"
    }
   ],
   "source": [
    "sqldf(\"Select player_api_id,player_name,appearances from NewPlayers order by appearances DESC LIMIT 10\")"
   ]
  },
  {
   "cell_type": "markdown",
   "metadata": {},
   "source": [
    "<b>Question 4: Which are the top 10 players by number of leagues they played in?</b>\n",
    "* Select player_api_id,player_name and league_count columns from Player table and sort it in the descending order of total number of distinct leagues each player has played.\n",
    "* order by is used to sort.\n",
    "* LIMIT 10 prints only the top 10 results."
   ]
  },
  {
   "cell_type": "code",
   "execution_count": 6,
   "metadata": {
    "collapsed": false
   },
   "outputs": [
    {
     "data": {
      "text/html": [
       "<table>\n",
       "<thead><tr><th scope=col>player_api_id</th><th scope=col>player_name</th><th scope=col>league_count</th></tr></thead>\n",
       "<tbody>\n",
       "\t<tr><td> 42119               </td><td>Gelson Fernandes     </td><td>6                    </td></tr>\n",
       "\t<tr><td>116750               </td><td>Ricky van Wolfswinkel</td><td>5                    </td></tr>\n",
       "\t<tr><td>178538               </td><td>Filip Djuricic       </td><td>5                    </td></tr>\n",
       "\t<tr><td> 22543               </td><td>Radamel Falcao       </td><td>4                    </td></tr>\n",
       "\t<tr><td> 24123               </td><td>Jonathan De Guzman   </td><td>4                    </td></tr>\n",
       "\t<tr><td> 25816               </td><td>Almen Abdi           </td><td>4                    </td></tr>\n",
       "\t<tr><td> 26434               </td><td>Ibrahim Afellay      </td><td>4                    </td></tr>\n",
       "\t<tr><td> 26489               </td><td>Edson Braafheid      </td><td>4                    </td></tr>\n",
       "\t<tr><td> 26675               </td><td>Eljero Elia          </td><td>4                    </td></tr>\n",
       "\t<tr><td> 30477               </td><td>Danijel Pranjic      </td><td>4                    </td></tr>\n",
       "</tbody>\n",
       "</table>\n"
      ],
      "text/latex": [
       "\\begin{tabular}{r|lll}\n",
       " player\\_api\\_id & player\\_name & league\\_count\\\\\n",
       "\\hline\n",
       "\t  42119                & Gelson Fernandes      & 6                    \\\\\n",
       "\t 116750                & Ricky van Wolfswinkel & 5                    \\\\\n",
       "\t 178538                & Filip Djuricic        & 5                    \\\\\n",
       "\t  22543                & Radamel Falcao        & 4                    \\\\\n",
       "\t  24123                & Jonathan De Guzman    & 4                    \\\\\n",
       "\t  25816                & Almen Abdi            & 4                    \\\\\n",
       "\t  26434                & Ibrahim Afellay       & 4                    \\\\\n",
       "\t  26489                & Edson Braafheid       & 4                    \\\\\n",
       "\t  26675                & Eljero Elia           & 4                    \\\\\n",
       "\t  30477                & Danijel Pranjic       & 4                    \\\\\n",
       "\\end{tabular}\n"
      ],
      "text/markdown": [
       "\n",
       "player_api_id | player_name | league_count | \n",
       "|---|---|---|---|---|---|---|---|---|---|\n",
       "|  42119                | Gelson Fernandes      | 6                     | \n",
       "| 116750                | Ricky van Wolfswinkel | 5                     | \n",
       "| 178538                | Filip Djuricic        | 5                     | \n",
       "|  22543                | Radamel Falcao        | 4                     | \n",
       "|  24123                | Jonathan De Guzman    | 4                     | \n",
       "|  25816                | Almen Abdi            | 4                     | \n",
       "|  26434                | Ibrahim Afellay       | 4                     | \n",
       "|  26489                | Edson Braafheid       | 4                     | \n",
       "|  26675                | Eljero Elia           | 4                     | \n",
       "|  30477                | Danijel Pranjic       | 4                     | \n",
       "\n",
       "\n"
      ],
      "text/plain": [
       "   player_api_id player_name           league_count\n",
       "1   42119        Gelson Fernandes      6           \n",
       "2  116750        Ricky van Wolfswinkel 5           \n",
       "3  178538        Filip Djuricic        5           \n",
       "4   22543        Radamel Falcao        4           \n",
       "5   24123        Jonathan De Guzman    4           \n",
       "6   25816        Almen Abdi            4           \n",
       "7   26434        Ibrahim Afellay       4           \n",
       "8   26489        Edson Braafheid       4           \n",
       "9   26675        Eljero Elia           4           \n",
       "10  30477        Danijel Pranjic       4           "
      ]
     },
     "metadata": {},
     "output_type": "display_data"
    }
   ],
   "source": [
    "sqldf(\"Select player_api_id,player_name,league_count from NewPlayers order by league_count DESC LIMIT 10\")"
   ]
  },
  {
   "cell_type": "markdown",
   "metadata": {},
   "source": [
    "* Read the Team csv file created earlier"
   ]
  },
  {
   "cell_type": "code",
   "execution_count": 7,
   "metadata": {
    "collapsed": false
   },
   "outputs": [],
   "source": [
    "NewTeams<- (read.csv(file=\"team.csv\",head=TRUE,sep=\",\"))"
   ]
  },
  {
   "cell_type": "markdown",
   "metadata": {},
   "source": [
    "<b>Question 5: Which are the top 10 teams by sum of build up play attributes?</b>\n",
    "* Select team_api_id,team_short_name,buildUpPlay columns from Team table and sort it in the descending order of buildUpPlay attributes.\n",
    "* order by is used to sort the data on given column.\n",
    "* LIMIT 10 prints only the top 10 results."
   ]
  },
  {
   "cell_type": "code",
   "execution_count": 8,
   "metadata": {
    "collapsed": false
   },
   "outputs": [
    {
     "data": {
      "text/html": [
       "<table>\n",
       "<thead><tr><th scope=col>team_api_id</th><th scope=col>team_short_name</th><th scope=col>buildUpPlay</th></tr></thead>\n",
       "<tbody>\n",
       "\t<tr><td>  9804</td><td>TOR   </td><td>209   </td></tr>\n",
       "\t<tr><td>  8600</td><td>UDI   </td><td>205   </td></tr>\n",
       "\t<tr><td>  8194</td><td>FDU   </td><td>198   </td></tr>\n",
       "\t<tr><td>  8033</td><td>POD   </td><td>193   </td></tr>\n",
       "\t<tr><td>  8245</td><td>KKI   </td><td>192   </td></tr>\n",
       "\t<tr><td>  8024</td><td>WID   </td><td>190   </td></tr>\n",
       "\t<tr><td>  8244</td><td>LOD   </td><td>190   </td></tr>\n",
       "\t<tr><td>208931</td><td>CAP   </td><td>190   </td></tr>\n",
       "\t<tr><td>  9830</td><td>NAN   </td><td>189   </td></tr>\n",
       "\t<tr><td>  7943</td><td>SAS   </td><td>188   </td></tr>\n",
       "</tbody>\n",
       "</table>\n"
      ],
      "text/latex": [
       "\\begin{tabular}{r|lll}\n",
       " team\\_api\\_id & team\\_short\\_name & buildUpPlay\\\\\n",
       "\\hline\n",
       "\t   9804 & TOR    & 209   \\\\\n",
       "\t   8600 & UDI    & 205   \\\\\n",
       "\t   8194 & FDU    & 198   \\\\\n",
       "\t   8033 & POD    & 193   \\\\\n",
       "\t   8245 & KKI    & 192   \\\\\n",
       "\t   8024 & WID    & 190   \\\\\n",
       "\t   8244 & LOD    & 190   \\\\\n",
       "\t 208931 & CAP    & 190   \\\\\n",
       "\t   9830 & NAN    & 189   \\\\\n",
       "\t   7943 & SAS    & 188   \\\\\n",
       "\\end{tabular}\n"
      ],
      "text/markdown": [
       "\n",
       "team_api_id | team_short_name | buildUpPlay | \n",
       "|---|---|---|---|---|---|---|---|---|---|\n",
       "|   9804 | TOR    | 209    | \n",
       "|   8600 | UDI    | 205    | \n",
       "|   8194 | FDU    | 198    | \n",
       "|   8033 | POD    | 193    | \n",
       "|   8245 | KKI    | 192    | \n",
       "|   8024 | WID    | 190    | \n",
       "|   8244 | LOD    | 190    | \n",
       "| 208931 | CAP    | 190    | \n",
       "|   9830 | NAN    | 189    | \n",
       "|   7943 | SAS    | 188    | \n",
       "\n",
       "\n"
      ],
      "text/plain": [
       "   team_api_id team_short_name buildUpPlay\n",
       "1    9804      TOR             209        \n",
       "2    8600      UDI             205        \n",
       "3    8194      FDU             198        \n",
       "4    8033      POD             193        \n",
       "5    8245      KKI             192        \n",
       "6    8024      WID             190        \n",
       "7    8244      LOD             190        \n",
       "8  208931      CAP             190        \n",
       "9    9830      NAN             189        \n",
       "10   7943      SAS             188        "
      ]
     },
     "metadata": {},
     "output_type": "display_data"
    }
   ],
   "source": [
    "sqldf(\"Select team_api_id,team_short_name,buildUpPlay from NewTeams order by buildUpPlay DESC LIMIT 10\")"
   ]
  },
  {
   "cell_type": "markdown",
   "metadata": {},
   "source": [
    "<b>Question 6: Which are the top 10 teams by sum of chance creation attributes?</b>\n",
    "* Select team_api_id,team_short_name,chanceCreation columns from Team table and sort it in the descending order of chanceCreation attributes.\n",
    "* order by is used to sort the data on given column.\n",
    "* LIMIT 10 prints only the top 10 results."
   ]
  },
  {
   "cell_type": "code",
   "execution_count": 9,
   "metadata": {
    "collapsed": false
   },
   "outputs": [
    {
     "data": {
      "text/html": [
       "<table>\n",
       "<thead><tr><th scope=col>team_api_id</th><th scope=col>team_short_name</th><th scope=col>chanceCreation</th></tr></thead>\n",
       "<tbody>\n",
       "\t<tr><td>8543</td><td>LAZ </td><td>220 </td></tr>\n",
       "\t<tr><td>8697</td><td>WBR </td><td>216 </td></tr>\n",
       "\t<tr><td>9875</td><td>NAP </td><td>215 </td></tr>\n",
       "\t<tr><td>8178</td><td>LEV </td><td>210 </td></tr>\n",
       "\t<tr><td>8191</td><td>BUR </td><td>210 </td></tr>\n",
       "\t<tr><td>8344</td><td>CAR </td><td>210 </td></tr>\n",
       "\t<tr><td>8456</td><td>MCI </td><td>210 </td></tr>\n",
       "\t<tr><td>8485</td><td>ABE </td><td>210 </td></tr>\n",
       "\t<tr><td>8548</td><td>RAN </td><td>210 </td></tr>\n",
       "\t<tr><td>8586</td><td>TOT </td><td>210 </td></tr>\n",
       "</tbody>\n",
       "</table>\n"
      ],
      "text/latex": [
       "\\begin{tabular}{r|lll}\n",
       " team\\_api\\_id & team\\_short\\_name & chanceCreation\\\\\n",
       "\\hline\n",
       "\t 8543 & LAZ  & 220 \\\\\n",
       "\t 8697 & WBR  & 216 \\\\\n",
       "\t 9875 & NAP  & 215 \\\\\n",
       "\t 8178 & LEV  & 210 \\\\\n",
       "\t 8191 & BUR  & 210 \\\\\n",
       "\t 8344 & CAR  & 210 \\\\\n",
       "\t 8456 & MCI  & 210 \\\\\n",
       "\t 8485 & ABE  & 210 \\\\\n",
       "\t 8548 & RAN  & 210 \\\\\n",
       "\t 8586 & TOT  & 210 \\\\\n",
       "\\end{tabular}\n"
      ],
      "text/markdown": [
       "\n",
       "team_api_id | team_short_name | chanceCreation | \n",
       "|---|---|---|---|---|---|---|---|---|---|\n",
       "| 8543 | LAZ  | 220  | \n",
       "| 8697 | WBR  | 216  | \n",
       "| 9875 | NAP  | 215  | \n",
       "| 8178 | LEV  | 210  | \n",
       "| 8191 | BUR  | 210  | \n",
       "| 8344 | CAR  | 210  | \n",
       "| 8456 | MCI  | 210  | \n",
       "| 8485 | ABE  | 210  | \n",
       "| 8548 | RAN  | 210  | \n",
       "| 8586 | TOT  | 210  | \n",
       "\n",
       "\n"
      ],
      "text/plain": [
       "   team_api_id team_short_name chanceCreation\n",
       "1  8543        LAZ             220           \n",
       "2  8697        WBR             216           \n",
       "3  9875        NAP             215           \n",
       "4  8178        LEV             210           \n",
       "5  8191        BUR             210           \n",
       "6  8344        CAR             210           \n",
       "7  8456        MCI             210           \n",
       "8  8485        ABE             210           \n",
       "9  8548        RAN             210           \n",
       "10 8586        TOT             210           "
      ]
     },
     "metadata": {},
     "output_type": "display_data"
    }
   ],
   "source": [
    "sqldf(\"Select team_api_id,team_short_name,chanceCreation from NewTeams order by chanceCreation DESC LIMIT 10\")"
   ]
  },
  {
   "cell_type": "markdown",
   "metadata": {},
   "source": [
    "<b>Question 7: Which are the top 10 teams by sum of defense attributes?</b>\n",
    "* Select team_api_id,team_short_name,defence columns from Team table and sort it in the descending order of defence attributes.\n",
    "* order by is used to sort the data on given column.\n",
    "* LIMIT 10 prints only the top 10 results."
   ]
  },
  {
   "cell_type": "code",
   "execution_count": 10,
   "metadata": {
    "collapsed": false
   },
   "outputs": [
    {
     "data": {
      "text/html": [
       "<table>\n",
       "<thead><tr><th scope=col>team_api_id</th><th scope=col>team_short_name</th><th scope=col>defence</th></tr></thead>\n",
       "<tbody>\n",
       "\t<tr><td>1957</td><td>BIA </td><td>210 </td></tr>\n",
       "\t<tr><td>7794</td><td>BAS </td><td>210 </td></tr>\n",
       "\t<tr><td>8021</td><td>ZAG </td><td>210 </td></tr>\n",
       "\t<tr><td>8197</td><td>LEI </td><td>210 </td></tr>\n",
       "\t<tr><td>8344</td><td>CAR </td><td>210 </td></tr>\n",
       "\t<tr><td>8350</td><td>KAI </td><td>210 </td></tr>\n",
       "\t<tr><td>8466</td><td>SOU </td><td>210 </td></tr>\n",
       "\t<tr><td>8481</td><td>NAN </td><td>210 </td></tr>\n",
       "\t<tr><td>8483</td><td>BLA </td><td>210 </td></tr>\n",
       "\t<tr><td>8521</td><td>BRE </td><td>210 </td></tr>\n",
       "</tbody>\n",
       "</table>\n"
      ],
      "text/latex": [
       "\\begin{tabular}{r|lll}\n",
       " team\\_api\\_id & team\\_short\\_name & defence\\\\\n",
       "\\hline\n",
       "\t 1957 & BIA  & 210 \\\\\n",
       "\t 7794 & BAS  & 210 \\\\\n",
       "\t 8021 & ZAG  & 210 \\\\\n",
       "\t 8197 & LEI  & 210 \\\\\n",
       "\t 8344 & CAR  & 210 \\\\\n",
       "\t 8350 & KAI  & 210 \\\\\n",
       "\t 8466 & SOU  & 210 \\\\\n",
       "\t 8481 & NAN  & 210 \\\\\n",
       "\t 8483 & BLA  & 210 \\\\\n",
       "\t 8521 & BRE  & 210 \\\\\n",
       "\\end{tabular}\n"
      ],
      "text/markdown": [
       "\n",
       "team_api_id | team_short_name | defence | \n",
       "|---|---|---|---|---|---|---|---|---|---|\n",
       "| 1957 | BIA  | 210  | \n",
       "| 7794 | BAS  | 210  | \n",
       "| 8021 | ZAG  | 210  | \n",
       "| 8197 | LEI  | 210  | \n",
       "| 8344 | CAR  | 210  | \n",
       "| 8350 | KAI  | 210  | \n",
       "| 8466 | SOU  | 210  | \n",
       "| 8481 | NAN  | 210  | \n",
       "| 8483 | BLA  | 210  | \n",
       "| 8521 | BRE  | 210  | \n",
       "\n",
       "\n"
      ],
      "text/plain": [
       "   team_api_id team_short_name defence\n",
       "1  1957        BIA             210    \n",
       "2  7794        BAS             210    \n",
       "3  8021        ZAG             210    \n",
       "4  8197        LEI             210    \n",
       "5  8344        CAR             210    \n",
       "6  8350        KAI             210    \n",
       "7  8466        SOU             210    \n",
       "8  8481        NAN             210    \n",
       "9  8483        BLA             210    \n",
       "10 8521        BRE             210    "
      ]
     },
     "metadata": {},
     "output_type": "display_data"
    }
   ],
   "source": [
    "sqldf(\"Select team_api_id,team_short_name,defence from NewTeams order by defence DESC LIMIT 10\")"
   ]
  },
  {
   "cell_type": "markdown",
   "metadata": {},
   "source": [
    "<b>Question 8: Which are the top 10 teams by number of scored goals?</b>\n",
    "* Select team_api_id,team_short_name,number_of_goals columns from Team table and sort it in the descending order of number of goals scored by each team.\n",
    "* order by is used to sort the data on given column.\n",
    "* LIMIT 10 prints only the top 10 results."
   ]
  },
  {
   "cell_type": "code",
   "execution_count": 11,
   "metadata": {
    "collapsed": false
   },
   "outputs": [
    {
     "data": {
      "text/html": [
       "<table>\n",
       "<thead><tr><th scope=col>team_api_id</th><th scope=col>team_short_name</th><th scope=col>number_of_goals</th></tr></thead>\n",
       "<tbody>\n",
       "\t<tr><td> 8634</td><td>BAR  </td><td>849  </td></tr>\n",
       "\t<tr><td> 8633</td><td>REA  </td><td>843  </td></tr>\n",
       "\t<tr><td> 9925</td><td>CEL  </td><td>695  </td></tr>\n",
       "\t<tr><td> 9823</td><td>BMU  </td><td>653  </td></tr>\n",
       "\t<tr><td> 8640</td><td>PSV  </td><td>652  </td></tr>\n",
       "\t<tr><td> 8593</td><td>AJA  </td><td>647  </td></tr>\n",
       "\t<tr><td> 9931</td><td>BAS  </td><td>619  </td></tr>\n",
       "\t<tr><td> 8456</td><td>MCI  </td><td>606  </td></tr>\n",
       "\t<tr><td> 8455</td><td>CHE  </td><td>583  </td></tr>\n",
       "\t<tr><td>10260</td><td>MUN  </td><td>582  </td></tr>\n",
       "</tbody>\n",
       "</table>\n"
      ],
      "text/latex": [
       "\\begin{tabular}{r|lll}\n",
       " team\\_api\\_id & team\\_short\\_name & number\\_of\\_goals\\\\\n",
       "\\hline\n",
       "\t  8634 & BAR   & 849  \\\\\n",
       "\t  8633 & REA   & 843  \\\\\n",
       "\t  9925 & CEL   & 695  \\\\\n",
       "\t  9823 & BMU   & 653  \\\\\n",
       "\t  8640 & PSV   & 652  \\\\\n",
       "\t  8593 & AJA   & 647  \\\\\n",
       "\t  9931 & BAS   & 619  \\\\\n",
       "\t  8456 & MCI   & 606  \\\\\n",
       "\t  8455 & CHE   & 583  \\\\\n",
       "\t 10260 & MUN   & 582  \\\\\n",
       "\\end{tabular}\n"
      ],
      "text/markdown": [
       "\n",
       "team_api_id | team_short_name | number_of_goals | \n",
       "|---|---|---|---|---|---|---|---|---|---|\n",
       "|  8634 | BAR   | 849   | \n",
       "|  8633 | REA   | 843   | \n",
       "|  9925 | CEL   | 695   | \n",
       "|  9823 | BMU   | 653   | \n",
       "|  8640 | PSV   | 652   | \n",
       "|  8593 | AJA   | 647   | \n",
       "|  9931 | BAS   | 619   | \n",
       "|  8456 | MCI   | 606   | \n",
       "|  8455 | CHE   | 583   | \n",
       "| 10260 | MUN   | 582   | \n",
       "\n",
       "\n"
      ],
      "text/plain": [
       "   team_api_id team_short_name number_of_goals\n",
       "1   8634       BAR             849            \n",
       "2   8633       REA             843            \n",
       "3   9925       CEL             695            \n",
       "4   9823       BMU             653            \n",
       "5   8640       PSV             652            \n",
       "6   8593       AJA             647            \n",
       "7   9931       BAS             619            \n",
       "8   8456       MCI             606            \n",
       "9   8455       CHE             583            \n",
       "10 10260       MUN             582            "
      ]
     },
     "metadata": {},
     "output_type": "display_data"
    }
   ],
   "source": [
    "sqldf(\"Select team_api_id,team_short_name,number_of_goals from NewTeams order by number_of_goals DESC LIMIT 10\")"
   ]
  }
 ],
 "metadata": {
  "kernelspec": {
   "display_name": "R",
   "language": "R",
   "name": "ir"
  },
  "language_info": {
   "codemirror_mode": "r",
   "file_extension": ".r",
   "mimetype": "text/x-r-source",
   "name": "R",
   "pygments_lexer": "r",
   "version": "3.3.2"
  }
 },
 "nbformat": 4,
 "nbformat_minor": 2
}
