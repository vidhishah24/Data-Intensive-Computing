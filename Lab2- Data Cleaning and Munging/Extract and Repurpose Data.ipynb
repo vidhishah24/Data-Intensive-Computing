{
 "cells": [
  {
   "cell_type": "markdown",
   "metadata": {},
   "source": [
    "<div id=\"header\">\n",
    "        <p style=\"float: left; width: 34%; text-align: left;\">VIDHI JATIN SHAH</p>\n",
    "    <h1 style=\"float: left; width: 33%; text-align: center;\">LAB 2-Activity 2</h1>\n",
    "    <p style=\"float: left; width: 33%; text-align: right;\">UBPerson No:50207090</p>\n",
    "</div>"
   ]
  },
  {
   "cell_type": "markdown",
   "metadata": {},
   "source": [
    "1. Imports all the important libraries\n",
    "  * RSQLite<-Working with SQL database\n",
    "  * dplyr<-Working with SQL database\n",
    "  * sqldf<-to use sql statements on dataframe \n",
    "  * plyr<-Use for combining two dataframes"
   ]
  },
  {
   "cell_type": "code",
   "execution_count": 18,
   "metadata": {
    "collapsed": false,
    "scrolled": true
   },
   "outputs": [],
   "source": [
    "library(\"RSQLite\")\n",
    "library(\"dplyr\")\n",
    "library(\"sqldf\")\n",
    "library(plyr)"
   ]
  },
  {
   "cell_type": "markdown",
   "metadata": {},
   "source": [
    "* Connect to sqlite db file"
   ]
  },
  {
   "cell_type": "code",
   "execution_count": 19,
   "metadata": {
    "collapsed": true
   },
   "outputs": [],
   "source": [
    "db <- dbConnect(SQLite(), dbname=\"database.sqlite\")"
   ]
  },
  {
   "cell_type": "markdown",
   "metadata": {},
   "source": [
    "* List all the tables in the Databse"
   ]
  },
  {
   "cell_type": "code",
   "execution_count": 20,
   "metadata": {
    "collapsed": false
   },
   "outputs": [
    {
     "data": {
      "text/html": [
       "<ol class=list-inline>\n",
       "\t<li>'Country'</li>\n",
       "\t<li>'League'</li>\n",
       "\t<li>'Match'</li>\n",
       "\t<li>'Player'</li>\n",
       "\t<li>'Player_Attributes'</li>\n",
       "\t<li>'Team'</li>\n",
       "\t<li>'Team_Attributes'</li>\n",
       "\t<li>'sqlite_sequence'</li>\n",
       "</ol>\n"
      ],
      "text/latex": [
       "\\begin{enumerate*}\n",
       "\\item 'Country'\n",
       "\\item 'League'\n",
       "\\item 'Match'\n",
       "\\item 'Player'\n",
       "\\item 'Player\\_Attributes'\n",
       "\\item 'Team'\n",
       "\\item 'Team\\_Attributes'\n",
       "\\item 'sqlite\\_sequence'\n",
       "\\end{enumerate*}\n"
      ],
      "text/markdown": [
       "1. 'Country'\n",
       "2. 'League'\n",
       "3. 'Match'\n",
       "4. 'Player'\n",
       "5. 'Player_Attributes'\n",
       "6. 'Team'\n",
       "7. 'Team_Attributes'\n",
       "8. 'sqlite_sequence'\n",
       "\n",
       "\n"
      ],
      "text/plain": [
       "[1] \"Country\"           \"League\"            \"Match\"            \n",
       "[4] \"Player\"            \"Player_Attributes\" \"Team\"             \n",
       "[7] \"Team_Attributes\"   \"sqlite_sequence\"  "
      ]
     },
     "metadata": {},
     "output_type": "display_data"
    }
   ],
   "source": [
    "dbListTables(db) "
   ]
  },
  {
   "cell_type": "markdown",
   "metadata": {},
   "source": [
    "* List all the columns in a table"
   ]
  },
  {
   "cell_type": "code",
   "execution_count": 21,
   "metadata": {
    "collapsed": false
   },
   "outputs": [
    {
     "data": {
      "text/html": [
       "<ol class=list-inline>\n",
       "\t<li>'id'</li>\n",
       "\t<li>'country_id'</li>\n",
       "\t<li>'name'</li>\n",
       "</ol>\n"
      ],
      "text/latex": [
       "\\begin{enumerate*}\n",
       "\\item 'id'\n",
       "\\item 'country\\_id'\n",
       "\\item 'name'\n",
       "\\end{enumerate*}\n"
      ],
      "text/markdown": [
       "1. 'id'\n",
       "2. 'country_id'\n",
       "3. 'name'\n",
       "\n",
       "\n"
      ],
      "text/plain": [
       "[1] \"id\"         \"country_id\" \"name\"      "
      ]
     },
     "metadata": {},
     "output_type": "display_data"
    }
   ],
   "source": [
    "dbListFields(conn=db,\"League\")"
   ]
  },
  {
   "cell_type": "markdown",
   "metadata": {},
   "source": [
    "* dbGetQuery is used to fire query on sql db \n",
    "* Two tables Player and Player_attributes are join on the column player_api_id\n",
    "* We sum all the gk attributes<- gk_diving+gk_handling+gk_kicking+gk_positioning+gk_reflexes\n",
    "* Each player is assign more than one overall rating so we take the max overall_rating out of all"
   ]
  },
  {
   "cell_type": "code",
   "execution_count": 22,
   "metadata": {
    "collapsed": false
   },
   "outputs": [],
   "source": [
    "p1<-dbGetQuery(conn=db,\"select p.player_api_id,p.player_name,\n",
    "max(pa.overall_rating) as overall_rating, max(gk_diving+gk_handling+gk_kicking+gk_positioning+gk_reflexes) as gk \n",
    "from Player as p inner join Player_Attributes pa on p.player_api_id=pa.player_api_id\n",
    "group by p.player_api_id,player_name\")"
   ]
  },
  {
   "cell_type": "markdown",
   "metadata": {},
   "source": [
    "* We count the distinct League Ids of all the players and store it in a new column league_count\n",
    "* To find the number of appearances of each player we count each player_api_id for each of the match he has played in."
   ]
  },
  {
   "cell_type": "code",
   "execution_count": 23,
   "metadata": {
    "collapsed": false
   },
   "outputs": [],
   "source": [
    "p2<-dbGetQuery(conn=db,\"select p.player_api_id,count(player_api_id) as appearances,count(Distinct league_id) as league_count from Player as p,Match as m where \n",
    "p.player_api_id=m.home_player_1 OR \n",
    "p.player_api_id=m.home_player_2 OR\n",
    "p.player_api_id=m.home_player_3 OR\n",
    "p.player_api_id=m.home_player_4 OR\n",
    "p.player_api_id=m.home_player_5 OR\n",
    "p.player_api_id=m.home_player_6 OR\n",
    "p.player_api_id=m.home_player_7 OR\n",
    "p.player_api_id=m.home_player_8 OR\n",
    "p.player_api_id=m.home_player_9 OR \n",
    "p.player_api_id=m.home_player_10 OR \n",
    "p.player_api_id=m.home_player_11 OR \n",
    "p.player_api_id=m.away_player_1 OR \n",
    "p.player_api_id=m.away_player_2 OR \n",
    "p.player_api_id=m.away_player_3 OR \n",
    "p.player_api_id=m.away_player_4 OR \n",
    "p.player_api_id=m.away_player_5 OR \n",
    "p.player_api_id=m.away_player_6 OR \n",
    "p.player_api_id=m.away_player_7 OR \n",
    "p.player_api_id=m.away_player_8 OR \n",
    "p.player_api_id=m.away_player_9 OR \n",
    "p.player_api_id=m.away_player_10 OR \n",
    "p.player_api_id=m.away_player_11 group by p.player_api_id,p.player_name \")"
   ]
  },
  {
   "cell_type": "markdown",
   "metadata": {},
   "source": [
    "* Merge two tables p1 and p2 on player_api_id which stores all the necessary information of Players such as player_api_id,gk,overall_rating,player_name,league_count,appearances."
   ]
  },
  {
   "cell_type": "code",
   "execution_count": 24,
   "metadata": {
    "collapsed": false
   },
   "outputs": [],
   "source": [
    "FinalPlayer<-merge(p1,p2,by=c(\"player_api_id\",\"player_api_id\"))"
   ]
  },
  {
   "cell_type": "markdown",
   "metadata": {},
   "source": [
    "* Write the Players dataframe to csv"
   ]
  },
  {
   "cell_type": "code",
   "execution_count": 25,
   "metadata": {
    "collapsed": false
   },
   "outputs": [],
   "source": [
    "write.csv(FinalPlayer,file=\"Player.csv\",row.names=FALSE)"
   ]
  },
  {
   "cell_type": "markdown",
   "metadata": {},
   "source": [
    "* coalesce is used to replace all NA values in the column with a specified value i.e 0 in our case.\n",
    "* We sum the buildUpPlay attributes,ChanceCreation Attributes and Defence attributes of all the players.\n",
    "* We perform inner join on two tables team and team_Attributes on the column team_api_id"
   ]
  },
  {
   "cell_type": "code",
   "execution_count": 26,
   "metadata": {
    "collapsed": false
   },
   "outputs": [],
   "source": [
    "t1<-dbGetQuery(conn=db,\"Select t.team_api_id,t.team_short_name ,\n",
    "max((coalesce(buildUpPlayDribbling,0)+coalesce(buildUpPlaySpeed,0)+coalesce(buildUpPlayPassing,0)))as buildUpPlay,\n",
    "max(chanceCreationPassing+chanceCreationCrossing+chanceCreationShooting)as chanceCreation,\n",
    "max(defencePressure+defenceAggression+defenceTeamWidth)as defence\n",
    "from  team t inner join team_Attributes ta on t.team_api_id=ta.team_api_id group by t.team_api_id,t.team_short_name\")"
   ]
  },
  {
   "cell_type": "markdown",
   "metadata": {},
   "source": [
    "* Sum the number of goals scored by each team from home_team_goals and away_team_goal columns"
   ]
  },
  {
   "cell_type": "code",
   "execution_count": 27,
   "metadata": {
    "collapsed": false
   },
   "outputs": [],
   "source": [
    "x1<-dbGetQuery(conn=db,\"Select home_team_api_id as team_api_id, sum(home_team_goal) as goals from Match group by home_team_api_id\")\n",
    "x2<-dbGetQuery(conn=db,\"Select away_team_api_id as team_api_id , sum(away_team_goal) as goals from Match group by away_team_api_id\")"
   ]
  },
  {
   "cell_type": "markdown",
   "metadata": {},
   "source": [
    "* combines two dataframes that has goal count for home_teams and away_teams and finally merges on a common column team_api_id to give total number of goals for each team."
   ]
  },
  {
   "cell_type": "code",
   "execution_count": 28,
   "metadata": {
    "collapsed": false
   },
   "outputs": [],
   "source": [
    "x4<-ddply(rbind(x1, x2), .(team_api_id), summarize, number_of_goals = sum(goals))"
   ]
  },
  {
   "cell_type": "markdown",
   "metadata": {},
   "source": [
    "* Gives a final dataframe that has all the necessary details needed for a Team."
   ]
  },
  {
   "cell_type": "code",
   "execution_count": 29,
   "metadata": {
    "collapsed": false
   },
   "outputs": [],
   "source": [
    "x5<-merge(x=t1,y=x4,by.x='team_api_id',by.y='team_api_id')"
   ]
  },
  {
   "cell_type": "markdown",
   "metadata": {},
   "source": [
    "* Write the teams dataframe to csv"
   ]
  },
  {
   "cell_type": "code",
   "execution_count": 30,
   "metadata": {
    "collapsed": true
   },
   "outputs": [],
   "source": [
    "write.csv(x5,file=\"Team.csv\",row.names=FALSE)"
   ]
  }
 ],
 "metadata": {
  "kernelspec": {
   "display_name": "R",
   "language": "R",
   "name": "ir"
  },
  "language_info": {
   "codemirror_mode": "r",
   "file_extension": ".r",
   "mimetype": "text/x-r-source",
   "name": "R",
   "pygments_lexer": "r",
   "version": "3.3.2"
  }
 },
 "nbformat": 4,
 "nbformat_minor": 2
}
