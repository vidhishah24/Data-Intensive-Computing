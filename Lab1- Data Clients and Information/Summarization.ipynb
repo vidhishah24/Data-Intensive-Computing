{
 "cells": [
  {
   "cell_type": "markdown",
   "metadata": {},
   "source": [
    "<div id=\"header\">\n",
    "        <p style=\"float: left; width: 34%; text-align: left;\">VIDHI JATIN SHAH</p>\n",
    "    <h1 style=\"float: left; width: 33%; text-align: center;\">LAB 1-Problem 3</h1>\n",
    "    <p style=\"float: left; width: 33%; text-align: right;\">UBPerson No:50207090</p>\n",
    "</div>"
   ]
  },
  {
   "cell_type": "markdown",
   "metadata": {},
   "source": [
    "1. First ordered list item\n",
    "  * twitteR-->package for collecting twitter data.\n",
    "  * gggmap-->package for converting location to geocode.\n",
    "1. Twitter application credentials(Customer API key, Customer API secret, Access Token Key and Access Token Secret) required for authentication."
   ]
  },
  {
   "cell_type": "code",
   "execution_count": null,
   "metadata": {
    "collapsed": false
   },
   "outputs": [],
   "source": [
    "library(twitteR)\n",
    "library(ggmap)\n",
    "consumer_key <- 'gnJvXlQ5HLyNTgyawqQppn2w9'\n",
    "consumer_secret <- 'OurjB7Zk3x4n7WIPGCGn72IOwlsxAg7h95198VtO8iO2mIyuY3'\n",
    "access_token <- '771351448554799105-Q4Zaagzq4rXRzvOu7CSkS74uD4cOliK'\n",
    "access_secret <- '9gmew43fn2ZiI1zLtdCdONiNp30EjLBuhVvPMeogaVKmt'\n",
    "setup_twitter_oauth(consumer_key, consumer_secret, access_token, access_secret)"
   ]
  },
  {
   "cell_type": "markdown",
   "metadata": {},
   "source": [
    "* It takes Loaction as an input and gets the geocode i.e calculates its latitude and longitude.\n",
    "* closestTrendLocations() takes latitude,longitude of a place and gives woeid.\n",
    "* getTrends() gets the trending topics around that place on twitter.  \n",
    "* Top 10 trends are displayed."
   ]
  },
  {
   "cell_type": "code",
   "execution_count": null,
   "metadata": {
    "collapsed": false
   },
   "outputs": [],
   "source": [
    "Location<-'Buffalo'\n",
    "geoLocation<-geocode(Location)\n",
    "woeid<-closestTrendLocations(geoLocation$lat,geoLocation$lon)\n",
    "txt<-getTrends(woeid$woeid, exclude=NULL)\n",
    "df<-txt$name\n",
    "head(df,10)"
   ]
  }
 ],
 "metadata": {
  "kernelspec": {
   "display_name": "R",
   "language": "R",
   "name": "ir"
  },
  "language_info": {
   "codemirror_mode": "r",
   "file_extension": ".r",
   "mimetype": "text/x-r-source",
   "name": "R",
   "pygments_lexer": "r",
   "version": "3.3.2"
  }
 },
 "nbformat": 4,
 "nbformat_minor": 2
}
