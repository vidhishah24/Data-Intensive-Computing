{
 "cells": [
  {
   "cell_type": "markdown",
   "metadata": {},
   "source": [
    "<div id=\"header\">\n",
    "        <p style=\"float: left; width: 34%; text-align: left;\">VIDHI JATIN SHAH</p>\n",
    "    <h1 style=\"float: left; width: 33%; text-align: center;\">LAB 1-Problem 2</h1>\n",
    "    <p style=\"float: left; width: 33%; text-align: right;\">UBPerson No:50207090</p>\n",
    "</div>"
   ]
  },
  {
   "cell_type": "markdown",
   "metadata": {},
   "source": [
    "1. Imports all the important libraries\n",
    "  * twitteR-->package for collecting twitter data.\n",
    "  * gggmap-->package for converting location to geocode.\n",
    "  * maptools,maps,ggplot-->package for plotting points on map of USA\n",
    "  * plyr-->To group all the tweets from the same location\n",
    "1. Twitter application credentials(Customer API key, Customer API secret, Access Token Key and Access Token Secret) required for authentication."
   ]
  },
  {
   "cell_type": "code",
   "execution_count": null,
   "metadata": {
    "collapsed": false
   },
   "outputs": [],
   "source": [
    "library(twitteR)\n",
    "library(\"ggmap\")\n",
    "library(\"maptools\")\n",
    "library(maps)\n",
    "library(ggplot2)\n",
    "library(\"plyr\")\n",
    "consumer_key <- 'gnJvXlQ5HLyNTgyawqQppn2w9'\n",
    "consumer_secret <- 'OurjB7Zk3x4n7WIPGCGn72IOwlsxAg7h95198VtO8iO2mIyuY3'\n",
    "access_token <- '771351448554799105-Q4Zaagzq4rXRzvOu7CSkS74uD4cOliK'\n",
    "access_secret <- '9gmew43fn2ZiI1zLtdCdONiNp30EjLBuhVvPMeogaVKmt'\n",
    "setup_twitter_oauth(consumer_key, consumer_secret, access_token, access_secret)"
   ]
  },
  {
   "cell_type": "markdown",
   "metadata": {},
   "source": [
    " * About 2000 Tweets are collected on the topic \"Superbowl\" using the 'searchTwitter' function  \n",
    " * Then the tweets are converted to dataframe using 'twListToDF' function  \n",
    " * The collected tweets are the stored in a csv file  "
   ]
  },
  {
   "cell_type": "code",
   "execution_count": null,
   "metadata": {
    "collapsed": true
   },
   "outputs": [],
   "source": [
    "topic<-'superbowl'\n",
    "collected_tweets<- searchTwitter(topic, n=30000, lang='en')\n",
    "write.csv(twListToDF(collected_tweets),file=\"tweets.csv\")"
   ]
  },
  {
   "cell_type": "markdown",
   "metadata": {},
   "source": [
    "We read the collected tweets from the csv file for processing."
   ]
  },
  {
   "cell_type": "code",
   "execution_count": null,
   "metadata": {
    "collapsed": true
   },
   "outputs": [],
   "source": [
    "tweets <- read.csv(file=\"tweets.csv\",head=TRUE,sep=\",\")"
   ]
  },
  {
   "cell_type": "markdown",
   "metadata": {},
   "source": [
    "Location meta-data gives not available (N/A) if the user hides his/her location.So,inorder to remove those data that does not contain location:\n",
    "2. Lookup screen name from the collected tweets dataframe\n",
    "3. From Screen names we get user info and convert it into dataframe as well\n",
    "\n",
    "We then write the User Info to csv file."
   ]
  },
  {
   "cell_type": "code",
   "execution_count": null,
   "metadata": {
    "collapsed": true
   },
   "outputs": [],
   "source": [
    "userInfo<-twListToDF(lookupUsers(as.character(tweets$screenName)))\n",
    "write.csv(userInfo,file=\"userInfo.csv\")"
   ]
  },
  {
   "cell_type": "code",
   "execution_count": null,
   "metadata": {
    "collapsed": true
   },
   "outputs": [],
   "source": [
    "userInfo <- read.csv(file=\"userInfo.csv\",head=TRUE,sep=\",\")"
   ]
  },
  {
   "cell_type": "markdown",
   "metadata": {},
   "source": [
    "4. Keep only users with location info from the user info collected.\n",
    "5. geocode() gets the geo code(latitude,longitude) of the locations from this dataframe  \n",
    "\n",
    "Write the geocodes in a csv file"
   ]
  },
  {
   "cell_type": "code",
   "execution_count": null,
   "metadata": {
    "collapsed": true
   },
   "outputs": [],
   "source": [
    "locatedUsers<-!is.na(userInfo[1:2500,]$location)\n",
    "userLoaction<-as.character(userInfo[1:2500,]$location[locatedUsers])\n",
    "locations<-geocode(userLocation)\n",
    "locations<-na.omit(locations)\n",
    "write.csv(locations,file=\"geoLocations.csv\")"
   ]
  },
  {
   "cell_type": "code",
   "execution_count": null,
   "metadata": {
    "collapsed": true
   },
   "outputs": [],
   "source": [
    "locatedUsers<-!is.na(userInfo[2501:5000,]$location)\n",
    "userLoaction<-as.character(userInfo[2501:5000,]$location[locatedUsers])\n",
    "locations<-geocode(userLocation)\n",
    "locations<-na.omit(locations)\n",
    "write.table(locations,file=\"geoLocations.csv\",sep=\",\",col.names=F,row.names=F,append=T)"
   ]
  },
  {
   "cell_type": "code",
   "execution_count": null,
   "metadata": {
    "collapsed": true
   },
   "outputs": [],
   "source": [
    "geoLocations<-read.csv(file=\"geoLocations.csv\",head=TRUE,sep=\",\")"
   ]
  },
  {
   "cell_type": "markdown",
   "metadata": {},
   "source": [
    "count()-->Calculates the frequency of tweets from the same location"
   ]
  },
  {
   "cell_type": "code",
   "execution_count": null,
   "metadata": {
    "collapsed": true
   },
   "outputs": [],
   "source": [
    "frequency = count(geoLocations, c('lat', 'lon'))"
   ]
  },
  {
   "cell_type": "markdown",
   "metadata": {},
   "source": [
    "* Map of USA is plotted and all the locations are plotted on the map.  \n",
    "* All the points that belong to the same location are grouped and a single blob is plotted.  \n",
    "* The size of blob representing the density of tweets.  \n",
    "* The points are represented as the square root of actual count so that the size of blob is not too big)."
   ]
  },
  {
   "cell_type": "code",
   "execution_count": null,
   "metadata": {
    "collapsed": false
   },
   "outputs": [],
   "source": [
    "google <- ggmap(get_googlemap(location=\"united states\", zoom = 4))\n",
    "google+\n",
    "geom_point(aes(x = lon, y = lat), data = frequency, colour = \"red\", size=frequency$freq/10)"
   ]
  },
  {
   "cell_type": "code",
   "execution_count": null,
   "metadata": {
    "collapsed": true
   },
   "outputs": [],
   "source": []
  }
 ],
 "metadata": {
  "kernelspec": {
   "display_name": "R",
   "language": "R",
   "name": "ir"
  },
  "language_info": {
   "codemirror_mode": "r",
   "file_extension": ".r",
   "mimetype": "text/x-r-source",
   "name": "R",
   "pygments_lexer": "r",
   "version": "3.3.2"
  }
 },
 "nbformat": 4,
 "nbformat_minor": 2
}
