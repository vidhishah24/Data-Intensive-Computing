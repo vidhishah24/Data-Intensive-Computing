{
 "cells": [
  {
   "cell_type": "markdown",
   "metadata": {},
   "source": [
    "<div id=\"header\">\n",
    "        <p style=\"float: left; width: 34%; text-align: left;\">VIDHI JATIN SHAH</p>\n",
    "    <h1 style=\"float: left; width: 33%; text-align: center;\">Lab 3-K-means clustering with Pew Data</h1>\n",
    "    <p style=\"float: left; width: 33%; text-align: right;\">UBPerson No:50207090</p>\n",
    "    </div>"
   ]
  },
  {
   "cell_type": "markdown",
   "metadata": {},
   "source": [
    "- We read June 10-July 12, 2015 - Gaming, Jobs and Broadband - CSV csv"
   ]
  },
  {
   "cell_type": "code",
   "execution_count": null,
   "metadata": {
    "collapsed": false
   },
   "outputs": [],
   "source": [
    "data <- read.csv(\"June 10-July 12, 2015 - Gaming, Jobs and Broadband - CSV.csv\")"
   ]
  },
  {
   "cell_type": "markdown",
   "metadata": {},
   "source": [
    "- kmeans is performed on the following 6 columns: *sex,age,race,usr,eminuse* "
   ]
  },
  {
   "cell_type": "code",
   "execution_count": null,
   "metadata": {
    "collapsed": false
   },
   "outputs": [],
   "source": [
    "data<- subset(data, select=c(\"sex\", \"age\",\"race\",\"usr\",\"eminuse\"))"
   ]
  },
  {
   "cell_type": "markdown",
   "metadata": {},
   "source": [
    "- Since the value of this columns are categorical,we first convert them to numeric."
   ]
  },
  {
   "cell_type": "code",
   "execution_count": null,
   "metadata": {
    "collapsed": false
   },
   "outputs": [],
   "source": [
    "data<- as.data.frame(sapply(data,as.numeric))"
   ]
  },
  {
   "cell_type": "markdown",
   "metadata": {},
   "source": [
    "- We use Function for Normalization which normalizes all the values in the range 0 to 1 ."
   ]
  },
  {
   "cell_type": "code",
   "execution_count": null,
   "metadata": {
    "collapsed": false
   },
   "outputs": [],
   "source": [
    "data<-apply(data, MARGIN = 2, FUN = function(X) (X - min(X))/diff(range(X)))"
   ]
  },
  {
   "cell_type": "markdown",
   "metadata": {},
   "source": [
    "- Applying Kmeans on the data for 3 clusters(k=3)"
   ]
  },
  {
   "cell_type": "code",
   "execution_count": null,
   "metadata": {
    "collapsed": false
   },
   "outputs": [],
   "source": [
    "cluster1 = kmeans(data, 3,nstart=5)"
   ]
  },
  {
   "cell_type": "markdown",
   "metadata": {},
   "source": [
    "- Displaying the summary for the Kmeans that gives various clsuter characteristics withinss,totalss,betweness"
   ]
  },
  {
   "cell_type": "code",
   "execution_count": null,
   "metadata": {
    "collapsed": false,
    "scrolled": true
   },
   "outputs": [],
   "source": [
    "cluster1$centers"
   ]
  },
  {
   "cell_type": "markdown",
   "metadata": {},
   "source": [
    "**Observation:(values may change for each run)**\n",
    "- (1,2)->(Male,female)-> After Normaliation:(0,1)\n",
    "- (1,2,3,4,5,6,8,9)-(White,Black,Asian,Mixed,Native American,Other,Don't know, Refused)->After Normaliation:(0,0.125,0.25..)\n",
    "- (R,S,U)->After Normaliation:(0,0.5,1)\n",
    "- (1,2,8,9)-(yes,no)->After Normaliation:(0,0.125)\n",
    "\n",
    "\n",
    "\n",
    "- Cluster 1:\n",
    "    - Male population is dominant in this cluster.\n",
    "    - Mid age population is higher in this cluster.\n",
    "    - Most of them are either Whites or Black-American \n",
    "    - Majority of people are from Suburban \n",
    "    - People in this cluster are atleast occasional internet users.   \n",
    "    \n",
    " -Cluster 2:\n",
    "    - Female population is dominant in this cluster.  \n",
    "    - Mid age population is higher in this cluster.\n",
    "    - Black-Americans are more in this cluster\n",
    "    - Almost people are from Suburban with few from urban as well. \n",
    "    - People in this cluster are atleast occasional internet users.\n",
    "    \n",
    " -Cluster 3:\n",
    "    - Male population is dominant in this cluster.\n",
    "    - Mid age population is higher in this cluster.\n",
    "    - A very huge population is of Black-Americans.\n",
    "    - Urban residents lie in this cluster. \n",
    "    - People in this cluster are atleast occasional internet users.\n"
   ]
  },
  {
   "cell_type": "markdown",
   "metadata": {},
   "source": [
    "cluster$size gives population of each cluster,in this case:\n",
    "- Population is highest of cluster 2 where Mostly Black-American females of mid-age from suburban that are occasional inetrnet users are present."
   ]
  },
  {
   "cell_type": "code",
   "execution_count": null,
   "metadata": {
    "collapsed": false
   },
   "outputs": [],
   "source": [
    "cluster1$size"
   ]
  },
  {
   "cell_type": "markdown",
   "metadata": {},
   "source": [
    "- Plotting the Kmeans clusters for all the 5 variables used"
   ]
  },
  {
   "cell_type": "markdown",
   "metadata": {},
   "source": [
    "*Applying Kmeans on the data for 5 clusters(k=5)*"
   ]
  },
  {
   "cell_type": "code",
   "execution_count": null,
   "metadata": {
    "collapsed": true
   },
   "outputs": [],
   "source": [
    "cluster2 = kmeans(data, 5,nstart=5)"
   ]
  },
  {
   "cell_type": "markdown",
   "metadata": {},
   "source": [
    "- Displaying the summary for the Kmeans that gives various clsuter characteristics withinss,totalss,betweness"
   ]
  },
  {
   "cell_type": "code",
   "execution_count": null,
   "metadata": {
    "collapsed": false,
    "scrolled": true
   },
   "outputs": [],
   "source": [
    "cluster2$centers"
   ]
  },
  {
   "cell_type": "markdown",
   "metadata": {},
   "source": [
    "**Observation:(values may change for each run)**\n",
    "- (1,2)-(Male,female)->After Normaliation:(0,1)\n",
    "- (1,2,3,4,5,6,8,9)-(White,Black,Asian,Mixed,Native American,Other,Don't know, Refused)->After Normaliation:(0,0.125,0.25..)\n",
    "- (R,S,U)->After Normaliation:(0,0.5,1)\n",
    "- (1,2,8,9)-(yes,no)->After Normaliation:(0,0.125)\n",
    "\n",
    "\n",
    "\n",
    "- Cluster 1:\n",
    "    - Female population is dominant in this cluster.\n",
    "    - Mid age population is higher in this cluster.\n",
    "    - Black-Americans belong to this cluster.\n",
    "    - Majority of people are from Urban locality. \n",
    "    - People in this cluster are atleast occasional internet users.   \n",
    "    \n",
    " -Cluster 2:\n",
    "    - Male population is dominant in this cluster.\n",
    "    - Mid age population is higher in this cluster.\n",
    "    - Whites are more in this cluster\n",
    "    - Most of the people are from Suburban. \n",
    "    - People in this cluster are atleast occasional internet users.\n",
    "    \n",
    " -Cluster 3:\n",
    "    - Female population is dominant in this cluster.\n",
    "    - Mid age population is higher in this cluster.\n",
    "    - A very huge population is of Black-Americans.\n",
    "    - Suburban residents lie in this cluster. \n",
    "    - People in this cluster are atleast occasional internet users.\n",
    "    \n",
    " -Cluster 4:\n",
    "    - Male population is dominant in this cluster.\n",
    "    - Young population is higher in this cluster.\n",
    "    - Black-Americans are dominant in this cluster.\n",
    "    - Suburban residents lie in this cluster. \n",
    "    - People in this cluster are atleast occasional internet users.\n",
    "    \n",
    " -Cluster 5:\n",
    "    - Male population is dominant in this cluster.\n",
    "    - Young population is higher in this cluster.\n",
    "    - A very huge population is of Black-Americans.\n",
    "    - Urban residents lie in this cluster. \n",
    "    - People in this cluster are atleast occasional internet users."
   ]
  },
  {
   "cell_type": "markdown",
   "metadata": {},
   "source": [
    "cluster$size gives population of each cluster,in this case:\n",
    "- Population is maximum of cluster 5 where Mostly young,Black-American males of residing in urban locality that are occasional inetrnet users are present."
   ]
  },
  {
   "cell_type": "code",
   "execution_count": null,
   "metadata": {
    "collapsed": false
   },
   "outputs": [],
   "source": [
    "cluster2$size"
   ]
  },
  {
   "cell_type": "markdown",
   "metadata": {
    "collapsed": true
   },
   "source": [
    "- The evaluation metric between_ss/total_ss is high for higher value of k\n",
    "- For k=3, between_ss/total_ss= 61.9 %\n",
    "- For k=5, between_ss/total_ss= 75.7 %\n",
    "\n",
    "- Thus, we can say that for higher value of k k-means clustering gives better results."
   ]
  }
 ],
 "metadata": {
  "kernelspec": {
   "display_name": "R",
   "language": "R",
   "name": "ir"
  },
  "language_info": {
   "codemirror_mode": "r",
   "file_extension": ".r",
   "mimetype": "text/x-r-source",
   "name": "R",
   "pygments_lexer": "r",
   "version": "3.3.2"
  }
 },
 "nbformat": 4,
 "nbformat_minor": 2
}
