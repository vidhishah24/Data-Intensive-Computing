{
 "cells": [
  {
   "cell_type": "markdown",
   "metadata": {
    "collapsed": true
   },
   "source": [
    "<div id=\"header\">\n",
    "        <p style=\"float: left; width: 34%; text-align: left;\">VIDHI JATIN SHAH</p>\n",
    "    <h1 style=\"float: left; width: 33%; text-align: center;\">Lab 3-K-nn classification with credit data</h1>\n",
    "    <p style=\"float: left; width: 33%; text-align: right;\">UBPerson No:50207090</p>\n",
    "</div>"
   ]
  },
  {
   "cell_type": "markdown",
   "metadata": {},
   "source": [
    "- Import class library used for Classification"
   ]
  },
  {
   "cell_type": "code",
   "execution_count": null,
   "metadata": {
    "collapsed": false
   },
   "outputs": [],
   "source": [
    "library(class)"
   ]
  },
  {
   "cell_type": "markdown",
   "metadata": {},
   "source": [
    "- set.seed is random number generator"
   ]
  },
  {
   "cell_type": "code",
   "execution_count": null,
   "metadata": {
    "collapsed": true
   },
   "outputs": [],
   "source": [
    "set.seed(5564)"
   ]
  },
  {
   "cell_type": "markdown",
   "metadata": {},
   "source": [
    "- Read the German Credit CSV."
   ]
  },
  {
   "cell_type": "code",
   "execution_count": null,
   "metadata": {
    "collapsed": false
   },
   "outputs": [],
   "source": [
    "data<-read.csv(\"german_credit_data1.csv\")"
   ]
  },
  {
   "cell_type": "markdown",
   "metadata": {},
   "source": [
    "- Converts the Credit Risks column to factor that maps value '0' to 'low' and '1' to 'high'"
   ]
  },
  {
   "cell_type": "code",
   "execution_count": null,
   "metadata": {
    "collapsed": false
   },
   "outputs": [],
   "source": [
    "credit.f<-factor(data$Credit.Risks,label=c(\"low\",\"high\"))"
   ]
  },
  {
   "cell_type": "markdown",
   "metadata": {},
   "source": [
    "- Converts all the values of the datafarme to numeric so that knn can be applied to it."
   ]
  },
  {
   "cell_type": "code",
   "execution_count": null,
   "metadata": {
    "collapsed": false
   },
   "outputs": [],
   "source": [
    "data<-as.data.frame(sapply(data[2:10],as.numeric))"
   ]
  },
  {
   "cell_type": "code",
   "execution_count": null,
   "metadata": {
    "collapsed": false
   },
   "outputs": [],
   "source": [
    "data[is.na(data)] <- 0"
   ]
  },
  {
   "cell_type": "code",
   "execution_count": null,
   "metadata": {
    "collapsed": false
   },
   "outputs": [],
   "source": [
    "data"
   ]
  },
  {
   "cell_type": "markdown",
   "metadata": {},
   "source": [
    "- Remove all the NA rows"
   ]
  },
  {
   "cell_type": "code",
   "execution_count": null,
   "metadata": {
    "collapsed": false
   },
   "outputs": [],
   "source": [
    "data<-na.omit(data)"
   ]
  },
  {
   "cell_type": "markdown",
   "metadata": {},
   "source": [
    "- Function for Normalization which normalizes all the values in the range 0 to 1 .\n",
    "- Normalization is done so that Eucledian distance gives appropriate answers."
   ]
  },
  {
   "cell_type": "code",
   "execution_count": null,
   "metadata": {
    "collapsed": false
   },
   "outputs": [],
   "source": [
    "data<-apply(data, MARGIN = 2, FUN = function(X) (X - min(X))/diff(range(X)))"
   ]
  },
  {
   "cell_type": "markdown",
   "metadata": {},
   "source": [
    "- Creating a dataframe to store K Value,Test Data percentage, Train Data percentage, Misclassification rate,"
   ]
  },
  {
   "cell_type": "code",
   "execution_count": null,
   "metadata": {
    "collapsed": false
   },
   "outputs": [],
   "source": [
    "df = data.frame(k=numeric(),TrainingData=numeric(),TestData=numeric(),MisclassificationRate=numeric()) "
   ]
  },
  {
   "cell_type": "markdown",
   "metadata": {},
   "source": [
    "** Knn**\n",
    " \n",
    " - knn is applied on values of k from 1 to 20\n",
    " - It is also applied for varying percentage of training data and test data[50-5-,60-40,70-30,80-20,90-10]\n",
    " - We create a training sample by taking subset of values from the dataframe.\n",
    " - The remaining data is the test data.\n",
    " - We store the class[credit.f] of training sample in cl.\n",
    " - We also store the true labels of the test data.\n",
    " - Then we perform knn on trainingdata,testdata,class and the value of k provided\n",
    " - This gives us the labels for the test data\n",
    " - We then compare the predicted labels arrived using knn and the true labels to calculate the Misclassification rate."
   ]
  },
  {
   "cell_type": "code",
   "execution_count": null,
   "metadata": {
    "collapsed": false
   },
   "outputs": [],
   "source": [
    "for(k in 1:20){\n",
    "    for(sampling.rate in seq(0.5,0.9,0.1)){\n",
    "    message(\"For k:\",k)\n",
    "    message(\"Training Data:\",sampling.rate)\n",
    "    message(\"Test Data:\",(1-sampling.rate))\n",
    "    num.test.set.labels<-nrow(data)*(1-sampling.rate)\n",
    "    training<-sample(1:nrow(data),sampling.rate*nrow(data),replace=FALSE)\n",
    "    train<-subset(data[training,])\n",
    "    testing<-setdiff(1:nrow(data),training)\n",
    "    test<-subset(data[testing,])\n",
    "    cl<-credit.f[training]\n",
    "    true.labels<-credit.f[testing]\n",
    "    predicted.labels<-knn(train,test,cl,k)\n",
    "    num.incorrect.labels<-sum(predicted.labels!=true.labels)\n",
    "    misclassification.rate<-num.incorrect.labels/num.test.set.labels\n",
    "    message(\"misclassification rate:\",misclassification.rate)\n",
    "    df[nrow(df) + 1, ] <- c( k,sampling.rate,(1-sampling.rate),misclassification.rate) \n",
    "        \n",
    "        }\n",
    "}"
   ]
  },
  {
   "cell_type": "markdown",
   "metadata": {},
   "source": [
    "- Display the output in ascending order of Misclassification rate."
   ]
  },
  {
   "cell_type": "code",
   "execution_count": null,
   "metadata": {
    "collapsed": false,
    "scrolled": true
   },
   "outputs": [],
   "source": [
    "df[with(df, order(MisclassificationRate)), ]"
   ]
  }
 ],
 "metadata": {
  "kernelspec": {
   "display_name": "R",
   "language": "R",
   "name": "ir"
  },
  "language_info": {
   "codemirror_mode": "r",
   "file_extension": ".r",
   "mimetype": "text/x-r-source",
   "name": "R",
   "pygments_lexer": "r",
   "version": "3.3.2"
  }
 },
 "nbformat": 4,
 "nbformat_minor": 2
}
