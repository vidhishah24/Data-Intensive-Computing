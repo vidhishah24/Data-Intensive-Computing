{
 "cells": [
  {
   "cell_type": "markdown",
   "metadata": {},
   "source": [
    "\n",
    "    VIDHI JATIN SHAH                                                                                     UBPerson No:50207090\n",
    "                                                                                                           \n",
    "                                                                        \n",
    "** LAB 3 : Classical package: H. Wickham’s ggplot2 Vignette**\n",
    "---------------------------------------\n"
   ]
  },
  {
   "cell_type": "markdown",
   "metadata": {},
   "source": [
    "- Importing required libraries.\n",
    "\n",
    "    - ggplot2-To plot different graphs.\n",
    "    - ggrepel-To repel text labels overlaps in plots.\n",
    "    - scales-scales map data to aesthetics, and provide methods for  determining breaks and labels for axes and legends\n",
    "    - tidyr-for data tidying"
   ]
  },
  {
   "cell_type": "code",
   "execution_count": null,
   "metadata": {
    "collapsed": false
   },
   "outputs": [],
   "source": [
    "library(ggplot2)\n",
    "library(ggrepel)\n",
    "library(scales)\n",
    "library(tidyr)"
   ]
  },
  {
   "cell_type": "markdown",
   "metadata": {},
   "source": [
    "- Reading the CSV for housing "
   ]
  },
  {
   "cell_type": "code",
   "execution_count": null,
   "metadata": {
    "collapsed": false,
    "scrolled": true
   },
   "outputs": [],
   "source": [
    "housing <- read.csv(\"landdata-states.csv\")\n",
    "head(housing[1:5])"
   ]
  },
  {
   "cell_type": "markdown",
   "metadata": {},
   "source": [
    "*ggplot2 VS Base for simple graphs where base wins*"
   ]
  },
  {
   "cell_type": "markdown",
   "metadata": {},
   "source": [
    "- Base graphics histogram example ploting home.value column"
   ]
  },
  {
   "cell_type": "code",
   "execution_count": null,
   "metadata": {
    "collapsed": false
   },
   "outputs": [],
   "source": [
    "hist(housing$Home.Value)"
   ]
  },
  {
   "cell_type": "markdown",
   "metadata": {},
   "source": [
    "- ggplot2 histogram example ploting Home.Value column"
   ]
  },
  {
   "cell_type": "code",
   "execution_count": null,
   "metadata": {
    "collapsed": false
   },
   "outputs": [],
   "source": [
    "ggplot(housing, aes(x = Home.Value)) +\n",
    "  geom_histogram()"
   ]
  },
  {
   "cell_type": "markdown",
   "metadata": {},
   "source": [
    "*ggplot2 Base graphics VS ggplot for more complex graphs where ggplot2 wins.*"
   ]
  },
  {
   "cell_type": "markdown",
   "metadata": {},
   "source": [
    "- Base colored scatter plot example"
   ]
  },
  {
   "cell_type": "code",
   "execution_count": null,
   "metadata": {
    "collapsed": false
   },
   "outputs": [],
   "source": [
    "plot(Home.Value ~ Date,\n",
    "     data=subset(housing, State == \"MA\"))\n",
    "points(Home.Value ~ Date, col=\"red\",\n",
    "       data=subset(housing, State == \"TX\"))\n",
    "legend(1975, 400000,\n",
    "       c(\"MA\", \"TX\"), title=\"State\",\n",
    "       col=c(\"black\", \"red\"),\n",
    "       pch=c(1, 1))"
   ]
  },
  {
   "cell_type": "markdown",
   "metadata": {},
   "source": [
    "- ggplot2 colored scatter plot example"
   ]
  },
  {
   "cell_type": "code",
   "execution_count": null,
   "metadata": {
    "collapsed": false
   },
   "outputs": [],
   "source": [
    "ggplot(subset(housing, State %in% c(\"MA\", \"TX\")),\n",
    "       aes(x=Date,\n",
    "           y=Home.Value,\n",
    "           color=State))+\n",
    "  geom_point()"
   ]
  },
  {
   "cell_type": "markdown",
   "metadata": {},
   "source": [
    "- To get a list of available geometric objects"
   ]
  },
  {
   "cell_type": "code",
   "execution_count": null,
   "metadata": {
    "collapsed": false,
    "scrolled": true
   },
   "outputs": [],
   "source": [
    "help.search(\"geom_\", package = \"ggplot2\")"
   ]
  },
  {
   "cell_type": "markdown",
   "metadata": {},
   "source": [
    "-ScatterPlot to plot Land Value Vs Structural cost"
   ]
  },
  {
   "cell_type": "code",
   "execution_count": null,
   "metadata": {
    "collapsed": false
   },
   "outputs": [],
   "source": [
    "hp2001Q1 <- subset(housing, Date == 2001.25) \n",
    "ggplot(hp2001Q1,\n",
    "       aes(y = Structure.Cost, x = Land.Value)) +\n",
    "  geom_point()"
   ]
  },
  {
   "cell_type": "markdown",
   "metadata": {},
   "source": [
    "- Log of Land Value Vs Structural Cost scatterplot"
   ]
  },
  {
   "cell_type": "code",
   "execution_count": null,
   "metadata": {
    "collapsed": false
   },
   "outputs": [],
   "source": [
    "ggplot(hp2001Q1,\n",
    "       aes(y = Structure.Cost, x = log(Land.Value))) +\n",
    "  geom_point()"
   ]
  },
  {
   "cell_type": "markdown",
   "metadata": {},
   "source": [
    "- ScatterPlot of Land Value Vs Structural Cost with a regression Line(Prediction Line)"
   ]
  },
  {
   "cell_type": "code",
   "execution_count": null,
   "metadata": {
    "collapsed": false,
    "scrolled": false
   },
   "outputs": [],
   "source": [
    "hp2001Q1$pred.SC <- predict(lm(Structure.Cost ~ log(Land.Value), data = hp2001Q1))\n",
    "\n",
    "p1 <- ggplot(hp2001Q1, aes(x = log(Land.Value), y = Structure.Cost))\n",
    "\n",
    "p1 + geom_point(aes(color = Home.Value)) +\n",
    "  geom_line(aes(y = pred.SC))"
   ]
  },
  {
   "cell_type": "markdown",
   "metadata": {},
   "source": [
    "* Smoothers- geom that includes a line and a ribbon"
   ]
  },
  {
   "cell_type": "code",
   "execution_count": null,
   "metadata": {
    "collapsed": false,
    "scrolled": false
   },
   "outputs": [],
   "source": [
    "p1 +\n",
    "  geom_point(aes(color = Home.Value)) +\n",
    "  geom_smooth()"
   ]
  },
  {
   "cell_type": "markdown",
   "metadata": {},
   "source": [
    "* label to label points in the plot"
   ]
  },
  {
   "cell_type": "code",
   "execution_count": null,
   "metadata": {
    "collapsed": false,
    "scrolled": false
   },
   "outputs": [],
   "source": [
    "p1 + \n",
    "  geom_text(aes(label=State), size = 3)"
   ]
  },
  {
   "cell_type": "code",
   "execution_count": null,
   "metadata": {
    "collapsed": false
   },
   "outputs": [],
   "source": [
    "p1 + \n",
    "  geom_point() + \n",
    "  geom_text_repel(aes(label=State), size = 3)"
   ]
  },
  {
   "cell_type": "markdown",
   "metadata": {},
   "source": [
    "* Variables are mapped to aesthetics with the aes() function"
   ]
  },
  {
   "cell_type": "code",
   "execution_count": null,
   "metadata": {
    "collapsed": false
   },
   "outputs": [],
   "source": [
    "p1 +\n",
    "  geom_point(aes(size = 2),# incorrect! 2 is not a variable\n",
    "             color=\"red\") # this is fine -- all points red"
   ]
  },
  {
   "cell_type": "markdown",
   "metadata": {},
   "source": [
    "* Mapping Variables To Other Aesthetics"
   ]
  },
  {
   "cell_type": "code",
   "execution_count": null,
   "metadata": {
    "collapsed": false
   },
   "outputs": [],
   "source": [
    "p1 +\n",
    "  geom_point(aes(color=Home.Value, shape = region))"
   ]
  },
  {
   "cell_type": "markdown",
   "metadata": {},
   "source": [
    "**Statistical Transformations**\n",
    "\n",
    "- default statistic for geom_bar is stat_bin."
   ]
  },
  {
   "cell_type": "code",
   "execution_count": null,
   "metadata": {
    "collapsed": false
   },
   "outputs": [],
   "source": [
    "args(geom_histogram)\n",
    "args(stat_bin)"
   ]
  },
  {
   "cell_type": "markdown",
   "metadata": {},
   "source": [
    " - Without binwidth"
   ]
  },
  {
   "cell_type": "code",
   "execution_count": null,
   "metadata": {
    "collapsed": false
   },
   "outputs": [],
   "source": [
    "p2 <- ggplot(housing, aes(x = Home.Value))\n",
    "p2 + geom_histogram()"
   ]
  },
  {
   "cell_type": "markdown",
   "metadata": {},
   "source": [
    " - we can change binwidth argument by passing to the stat_bin function."
   ]
  },
  {
   "cell_type": "code",
   "execution_count": null,
   "metadata": {
    "collapsed": false,
    "scrolled": false
   },
   "outputs": [],
   "source": [
    "p2 + geom_histogram(stat = \"bin\", binwidth=4000)"
   ]
  },
  {
   "cell_type": "markdown",
   "metadata": {},
   "source": [
    "**Changing The Statistical Transformation**"
   ]
  },
  {
   "cell_type": "code",
   "execution_count": null,
   "metadata": {
    "collapsed": false
   },
   "outputs": [],
   "source": [
    "housing.sum <- aggregate(housing[\"Home.Value\"], housing[\"State\"], FUN=mean)\n",
    "rbind(head(housing.sum), tail(housing.sum))"
   ]
  },
  {
   "cell_type": "code",
   "execution_count": null,
   "metadata": {
    "collapsed": false,
    "scrolled": false
   },
   "outputs": [],
   "source": [
    "ggplot(housing.sum, aes(x=State, y=Home.Value)) + \n",
    "  geom_bar(stat=\"identity\")"
   ]
  },
  {
   "cell_type": "markdown",
   "metadata": {},
   "source": [
    "*Scales*\n",
    "\n",
    "- Distribution of home values by Date and State"
   ]
  },
  {
   "cell_type": "code",
   "execution_count": null,
   "metadata": {
    "collapsed": false
   },
   "outputs": [],
   "source": [
    "p3 <- ggplot(housing,\n",
    "             aes(x = State,\n",
    "                 y = Home.Price.Index)) + \n",
    "        theme(legend.position=\"top\",\n",
    "              axis.text=element_text(size = 6))\n",
    "(p4 <- p3 + geom_point(aes(color = Date),\n",
    "                       alpha = 0.5,\n",
    "                       size = 1.5,\n",
    "                       position = position_jitter(width = 0.25, height = 0)))"
   ]
  },
  {
   "cell_type": "markdown",
   "metadata": {},
   "source": [
    "- Modify the breaks for the x axis and color scales"
   ]
  },
  {
   "cell_type": "code",
   "execution_count": null,
   "metadata": {
    "collapsed": false,
    "scrolled": false
   },
   "outputs": [],
   "source": [
    "p4 + scale_x_discrete(name=\"State Abbreviation\") +\n",
    "  scale_color_continuous(name=\"\",\n",
    "                         breaks = c(1976, 1994, 2013),\n",
    "                         labels = c(\"'76\", \"'94\", \"'13\"))"
   ]
  },
  {
   "cell_type": "markdown",
   "metadata": {},
   "source": [
    "- Changing the low and high values to blue and red"
   ]
  },
  {
   "cell_type": "code",
   "execution_count": null,
   "metadata": {
    "collapsed": false,
    "scrolled": false
   },
   "outputs": [],
   "source": [
    "p4 +\n",
    "  scale_x_discrete(name=\"State Abbreviation\") +\n",
    "  scale_color_continuous(name=\"\",\n",
    "                         breaks = c(1976, 1994, 2013),\n",
    "                         labels = c(\"'76\", \"'94\", \"'13\"),\n",
    "                         low = \"blue\", high = \"red\")"
   ]
  },
  {
   "cell_type": "code",
   "execution_count": null,
   "metadata": {
    "collapsed": false
   },
   "outputs": [],
   "source": [
    "p4 +\n",
    "  scale_color_continuous(name=\"\",\n",
    "                         breaks = c(1976, 1994, 2013),\n",
    "                         labels = c(\"'76\", \"'94\", \"'13\"),\n",
    "                         low = muted(\"blue\"), high = muted(\"red\"))"
   ]
  },
  {
   "cell_type": "markdown",
   "metadata": {},
   "source": [
    "- Using different color scales"
   ]
  },
  {
   "cell_type": "code",
   "execution_count": null,
   "metadata": {
    "collapsed": false
   },
   "outputs": [],
   "source": [
    "p4 +\n",
    "  scale_color_gradient2(name=\"\",\n",
    "                        breaks = c(1976, 1994, 2013),\n",
    "                        labels = c(\"'76\", \"'94\", \"'13\"),\n",
    "                        low = muted(\"blue\"),\n",
    "                        high = muted(\"red\"),\n",
    "                        mid = \"gray60\",\n",
    "                        midpoint = 1994)"
   ]
  },
  {
   "cell_type": "markdown",
   "metadata": {},
   "source": [
    " - mapping each State to diffrent color\n",
    " \n",
    " What is the trend in housing prices in each state?"
   ]
  },
  {
   "cell_type": "code",
   "execution_count": null,
   "metadata": {
    "collapsed": false
   },
   "outputs": [],
   "source": [
    "p5 <- ggplot(housing, aes(x = Date, y = Home.Value))\n",
    "p5 + geom_line(aes(color = State))"
   ]
  },
  {
   "cell_type": "markdown",
   "metadata": {},
   "source": [
    "- Faceting by state"
   ]
  },
  {
   "cell_type": "code",
   "execution_count": null,
   "metadata": {
    "collapsed": false,
    "scrolled": false
   },
   "outputs": [],
   "source": [
    "(p5 <- p5 + geom_line() +\n",
    "   facet_wrap(~State, ncol = 10))"
   ]
  },
  {
   "cell_type": "markdown",
   "metadata": {},
   "source": [
    "*Themes*"
   ]
  },
  {
   "cell_type": "code",
   "execution_count": null,
   "metadata": {
    "collapsed": false
   },
   "outputs": [],
   "source": [
    "p5 + theme_linedraw()"
   ]
  },
  {
   "cell_type": "code",
   "execution_count": null,
   "metadata": {
    "collapsed": false
   },
   "outputs": [],
   "source": [
    "p5 + theme_linedraw()"
   ]
  },
  {
   "cell_type": "code",
   "execution_count": null,
   "metadata": {
    "collapsed": false
   },
   "outputs": [],
   "source": [
    "p5 + theme_linedraw()"
   ]
  },
  {
   "cell_type": "code",
   "execution_count": null,
   "metadata": {
    "collapsed": false
   },
   "outputs": [],
   "source": [
    "p5 + theme_light()"
   ]
  },
  {
   "cell_type": "code",
   "execution_count": null,
   "metadata": {
    "collapsed": false
   },
   "outputs": [],
   "source": [
    "p5 + theme_minimal() +\n",
    "  theme(text = element_text(color = \"turquoise\"))"
   ]
  },
  {
   "cell_type": "markdown",
   "metadata": {},
   "source": [
    "- Creating and saving new themes"
   ]
  },
  {
   "cell_type": "code",
   "execution_count": null,
   "metadata": {
    "collapsed": false
   },
   "outputs": [],
   "source": [
    "theme_new <- theme_bw() +\n",
    "  theme(plot.background = element_rect(size = 1, color = \"blue\", fill = \"black\"),\n",
    "        text=element_text(size = 12, family = \"Serif\", color = \"ivory\"),\n",
    "        axis.text.y = element_text(colour = \"purple\"),\n",
    "        axis.text.x = element_text(colour = \"red\"),\n",
    "        panel.background = element_rect(fill = \"pink\"),\n",
    "        strip.background = element_rect(fill = muted(\"orange\")))\n",
    "\n",
    "p5 + theme_new\n"
   ]
  },
  {
   "cell_type": "markdown",
   "metadata": {},
   "source": [
    "- Wrong way to plot two variables in a data.farme"
   ]
  },
  {
   "cell_type": "code",
   "execution_count": null,
   "metadata": {
    "collapsed": false
   },
   "outputs": [],
   "source": [
    "housing.byyear <- aggregate(cbind(Home.Value, Land.Value) ~ Date, data = housing, mean)\n",
    "ggplot(housing.byyear,\n",
    "       aes(x=Date)) +\n",
    "  geom_line(aes(y=Home.Value), color=\"red\") +\n",
    "  geom_line(aes(y=Land.Value), color=\"blue\")"
   ]
  },
  {
   "cell_type": "markdown",
   "metadata": {},
   "source": [
    "- Plotting two variables in my data.frame as separate points, with different color depending on which variable it is."
   ]
  },
  {
   "cell_type": "code",
   "execution_count": null,
   "metadata": {
    "collapsed": false
   },
   "outputs": [],
   "source": [
    "\n",
    "home.land.byyear <- gather(housing.byyear,\n",
    "                           value = \"value\",\n",
    "                           key = \"type\",\n",
    "                           Home.Value, Land.Value)\n",
    "ggplot(home.land.byyear,\n",
    "       aes(x=Date,\n",
    "           y=value,\n",
    "           color=type)) +\n",
    "  geom_line()"
   ]
  }
 ],
 "metadata": {
  "kernelspec": {
   "display_name": "R",
   "language": "R",
   "name": "ir"
  },
  "language_info": {
   "codemirror_mode": "r",
   "file_extension": ".r",
   "mimetype": "text/x-r-source",
   "name": "R",
   "pygments_lexer": "r",
   "version": "3.3.2"
  }
 },
 "nbformat": 4,
 "nbformat_minor": 2
}
