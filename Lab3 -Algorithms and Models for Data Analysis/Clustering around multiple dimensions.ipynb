{
 "cells": [
  {
   "cell_type": "markdown",
   "metadata": {},
   "source": [
    "<div id=\"header\">\n",
    "        <p style=\"float: left; width: 34%; text-align: left;\">VIDHI JATIN SHAH</p>\n",
    "    <h1 style=\"float: left; width: 33%; text-align: center;\">Lab 3- Clustering around multiple dimensions</h1>\n",
    "    <p style=\"float: left; width: 33%; text-align: right;\">UBPerson No:50207090</p>\n",
    "</div>"
   ]
  },
  {
   "cell_type": "code",
   "execution_count": null,
   "metadata": {
    "collapsed": false
   },
   "outputs": [],
   "source": [
    "data <-read.csv(\"Wholesale customers data.csv\",header=T)\n",
    "summary(data)"
   ]
  },
  {
   "cell_type": "markdown",
   "metadata": {},
   "source": [
    "- The function removes the top 5 customers from each category and returns the indexes of those customers."
   ]
  },
  {
   "cell_type": "code",
   "execution_count": null,
   "metadata": {
    "collapsed": false
   },
   "outputs": [],
   "source": [
    "top.n.custs <- function (data,cols,n=5) { \n",
    "idx.to.remove <-integer(0) \n",
    "for (c in cols){ \n",
    "col.order <-order(data[,c],decreasing=T) \n",
    "idx <-head(col.order, n) \n",
    "idx.to.remove <-union(idx.to.remove,idx) \n",
    "}\n",
    "return(idx.to.remove) \n",
    "}\n",
    "top.custs <-top.n.custs(data,cols=3:8,n=5)\n",
    "length(top.custs) \n",
    "data[top.custs,] \n",
    "data.rm.top<-data[-c(top.custs),] "
   ]
  },
  {
   "cell_type": "markdown",
   "metadata": {},
   "source": [
    "- k-means is performed on new data(with the top 5 customers removed) for 5 clusters and we display the number of data points in each cluster."
   ]
  },
  {
   "cell_type": "code",
   "execution_count": null,
   "metadata": {
    "collapsed": false
   },
   "outputs": [],
   "source": [
    "set.seed(76964057)\n",
    "k <-kmeans(data.rm.top[,-c(1,2)], centers=5)\n",
    "k$centers \n",
    "table(k$cluster) "
   ]
  },
  {
   "cell_type": "markdown",
   "metadata": {},
   "source": [
    "- The inetrprestation of each cluster is as follows:\n",
    "\n",
    "Cluster 1 looks to be a heavy Grocery and above average Detergents_Paper but low Fresh foods.\n",
    "\n",
    "\n",
    "Cluster 3 is dominant in the Fresh category.\n",
    "\n",
    "\n",
    "Cluster 5 might be either the “junk drawer” catch-all cluster or it might represent the small customers."
   ]
  },
  {
   "cell_type": "markdown",
   "metadata": {},
   "source": [
    "-  We run the k-means algorithm for k values 2 to 20 to select the best k where bends and stops making gains in withinss."
   ]
  },
  {
   "cell_type": "code",
   "execution_count": null,
   "metadata": {
    "collapsed": false
   },
   "outputs": [],
   "source": [
    "rng<-2:20 \n",
    "tries <-100 \n",
    "avg.totw.ss <-integer(length(rng)) \n",
    "for(v in rng){\n",
    " v.totw.ss <-integer(tries) \n",
    " for(i in 1:tries){\n",
    " k.temp <-kmeans(data.rm.top,centers=v) \n",
    " v.totw.ss[i] <-k.temp$tot.withinss\n",
    " }\n",
    " avg.totw.ss[v-1] <-mean(v.totw.ss) \n",
    "}\n",
    "plot(rng,avg.totw.ss,type=\"b\", main=\"Total Within SS by Various K\",\n",
    " ylab=\"Average Total Within Sum of Squares\",\n",
    " xlab=\"Value of K\")"
   ]
  }
 ],
 "metadata": {
  "kernelspec": {
   "display_name": "R",
   "language": "R",
   "name": "ir"
  },
  "language_info": {
   "codemirror_mode": "r",
   "file_extension": ".r",
   "mimetype": "text/x-r-source",
   "name": "R",
   "pygments_lexer": "r",
   "version": "3.3.2"
  }
 },
 "nbformat": 4,
 "nbformat_minor": 2
}
