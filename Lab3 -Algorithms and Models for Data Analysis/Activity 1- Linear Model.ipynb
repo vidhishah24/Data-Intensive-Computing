{
 "cells": [
  {
   "cell_type": "markdown",
   "metadata": {},
   "source": [
    "<div id=\"header\">\n",
    "        <p style=\"float: left; width: 34%; text-align: left;\">VIDHI JATIN SHAH</p>\n",
    "    <h1 style=\"float: left; width: 33%; text-align: center;\">Lab 3-Activity 1: Linear Model.</h1>\n",
    "    <p style=\"float: left; width: 33%; text-align: right;\">UBPerson No:50207090</p>\n",
    "</div>"
   ]
  },
  {
   "cell_type": "markdown",
   "metadata": {},
   "source": [
    "- Read the NHLTop100 csv"
   ]
  },
  {
   "cell_type": "code",
   "execution_count": null,
   "metadata": {
    "collapsed": false,
    "scrolled": false
   },
   "outputs": [],
   "source": [
    "mydata<- (read.csv(file=\"NHLTop100.csv\",head=TRUE,sep=\",\",stringsAsFactor=FALSE))"
   ]
  },
  {
   "cell_type": "markdown",
   "metadata": {},
   "source": [
    "**a.  After the initial fitting, evaluate the fit by noting the R2 and p values of the fit.**"
   ]
  },
  {
   "cell_type": "markdown",
   "metadata": {},
   "source": [
    "- Create  a dataframe to store the RSquared and pvalues for diffrent models."
   ]
  },
  {
   "cell_type": "code",
   "execution_count": null,
   "metadata": {
    "collapsed": true
   },
   "outputs": [],
   "source": [
    "df = data.frame(model=character(),RSquared=numeric(),pValue=numeric(),stringsAsFactors = FALSE)"
   ]
  },
  {
   "cell_type": "markdown",
   "metadata": {},
   "source": [
    "- linear regression model is used on the data for Assits and Goals variables"
   ]
  },
  {
   "cell_type": "code",
   "execution_count": null,
   "metadata": {
    "collapsed": false
   },
   "outputs": [],
   "source": [
    "original <- lm(A ~ G , data=mydata)"
   ]
  },
  {
   "cell_type": "markdown",
   "metadata": {},
   "source": [
    "- summary() returns a list of summary statistics of the fitted linear model given such as Error,RSquared, p-values "
   ]
  },
  {
   "cell_type": "code",
   "execution_count": null,
   "metadata": {
    "collapsed": false,
    "scrolled": true
   },
   "outputs": [],
   "source": [
    "summary(original)"
   ]
  },
  {
   "cell_type": "markdown",
   "metadata": {},
   "source": [
    "- plot the lm model and store the RSquared and p-values for the model ."
   ]
  },
  {
   "cell_type": "code",
   "execution_count": null,
   "metadata": {
    "collapsed": false
   },
   "outputs": [],
   "source": [
    "with(mydata,plot(G,A,main = \"Goals Vs Assists\",xlab = \"Goals\",ylab = \"Assists\"))\n",
    "abline(coef(original)[1],coef(original)[2])\n",
    "df[nrow(df) + 1, ] <- c( \"original\",summary(original)$r.squared,summary(original)$coefficients[2,4]) "
   ]
  },
  {
   "cell_type": "markdown",
   "metadata": {},
   "source": [
    "**b.Change the model so that it line is forced through Wayne Gretzky. Note the R2 and p values of the fit. This will another line or if you prefer another plot.**"
   ]
  },
  {
   "cell_type": "markdown",
   "metadata": {},
   "source": [
    "- We get the Assists and goals values for Wayne Gretzky"
   ]
  },
  {
   "cell_type": "code",
   "execution_count": null,
   "metadata": {
    "collapsed": false
   },
   "outputs": [],
   "source": [
    "wa<-mydata[mydata$Player==\"Wayne Gretzky\",]$A\n",
    "wg<-mydata[mydata$Player==\"Wayne Gretzky\",]$G"
   ]
  },
  {
   "cell_type": "markdown",
   "metadata": {},
   "source": [
    "- Changing lm model so that line is forced through Wayne Gretzky. "
   ]
  },
  {
   "cell_type": "code",
   "execution_count": null,
   "metadata": {
    "collapsed": false
   },
   "outputs": [],
   "source": [
    "new <- lm(I(A-wa) ~ I(G-wg), data=mydata)\n",
    "wayne <- lm(I(A-coef(new)[1]) ~ I(G), data=mydata)"
   ]
  },
  {
   "cell_type": "markdown",
   "metadata": {},
   "source": [
    "- Getting RSquared and p-values for the new lm model"
   ]
  },
  {
   "cell_type": "code",
   "execution_count": null,
   "metadata": {
    "collapsed": false
   },
   "outputs": [],
   "source": [
    "summary(wayne)"
   ]
  },
  {
   "cell_type": "markdown",
   "metadata": {},
   "source": [
    "- plot the lm model and store the RSquared and p-values for the new model ."
   ]
  },
  {
   "cell_type": "code",
   "execution_count": null,
   "metadata": {
    "collapsed": false,
    "scrolled": true
   },
   "outputs": [],
   "source": [
    "with(mydata,plot(G,A,main = \"Goals Vs Assists\",xlab = \"Goals\",\n",
    "     ylab = \"Assists\",col=\"blue\"))\n",
    "text(800,1900, \"Wayne Gretzky\",    cex = 1)\n",
    "abline(coef(wayne)[1],coef(wayne)[2])\n",
    "df[nrow(df) + 1, ] <- c( \"Wayne Gretzky\",summary(wayne)$r.squared,summary(wayne)$coefficients[2,4]) "
   ]
  },
  {
   "cell_type": "markdown",
   "metadata": {},
   "source": [
    "**c. Now add the data for another player Patrick Kane (he is a current player). You need to get the data for form online sources. Create a new chart with this addition and force the line through Kane but not Gretzky. Note R2 and p values of the fit.**"
   ]
  },
  {
   "cell_type": "markdown",
   "metadata": {},
   "source": [
    "- Adding a new player(Patrick Kane) to the dataframe."
   ]
  },
  {
   "cell_type": "code",
   "execution_count": null,
   "metadata": {
    "collapsed": false
   },
   "outputs": [],
   "source": [
    "Kane<- c(88,\"Patrick Kane\",\"CHI\",\"L\",\"2007-2008\",\"2016-2017\",735,285,462,747,81,284,336,1,49,\"NA\",3,2290)\n",
    "mydata<- rbind(mydata,Kane)"
   ]
  },
  {
   "cell_type": "markdown",
   "metadata": {},
   "source": [
    "- We get the Assists and goals values for Patrick Kane."
   ]
  },
  {
   "cell_type": "code",
   "execution_count": null,
   "metadata": {
    "collapsed": true
   },
   "outputs": [],
   "source": [
    "mydata$G<-as.numeric(mydata$G)\n",
    "mydata$A<-as.numeric(mydata$A)\n",
    "pa<-mydata[mydata$Player==\"Patrick Kane\",]$A\n",
    "pg<-mydata[mydata$Player==\"Patrick Kane\",]$G"
   ]
  },
  {
   "cell_type": "markdown",
   "metadata": {},
   "source": [
    "- Changing lm model so that line is forced through Patrick Kane. "
   ]
  },
  {
   "cell_type": "code",
   "execution_count": null,
   "metadata": {
    "collapsed": false
   },
   "outputs": [],
   "source": [
    "new<- lm(I(A - pa) ~ I(G - pg), data=mydata)\n",
    "patrick <- lm(I(A-coef(new)[1]) ~ I(G), data=mydata)"
   ]
  },
  {
   "cell_type": "markdown",
   "metadata": {},
   "source": [
    "- Getting RSquared and p-values for the new lm model"
   ]
  },
  {
   "cell_type": "code",
   "execution_count": null,
   "metadata": {
    "collapsed": false
   },
   "outputs": [],
   "source": [
    "summary(patrick)"
   ]
  },
  {
   "cell_type": "markdown",
   "metadata": {},
   "source": [
    "- plot the lm model and store the RSquared and p-values for the new model ."
   ]
  },
  {
   "cell_type": "code",
   "execution_count": null,
   "metadata": {
    "collapsed": false,
    "scrolled": true
   },
   "outputs": [],
   "source": [
    "with(mydata,plot(G,A,main = \"Goals Vs Assists\",xlab = \"Goals\",\n",
    "     ylab = \"Assists\",col=\"blue\"))\n",
    "text(280,400, \"Patrick Kane\",    cex = 1)\n",
    "\n",
    "abline(coef(patrick)[1],coef(patrick)[2])\n",
    "df[nrow(df) + 1, ] <- c( \"Patrick Kane\",summary(patrick)$r.squared,summary(patrick)$coefficients[2,4]) "
   ]
  },
  {
   "cell_type": "markdown",
   "metadata": {},
   "source": [
    "**d.Make all the model go through (0,0) and create new models. Note R2 and p values of the fit.**"
   ]
  },
  {
   "cell_type": "markdown",
   "metadata": {},
   "source": [
    "- Changing the lm model to pass through origin the orginal model as well as for Wayne Gretzky and Patrick Kane models and storing its RSquared and p-values in df. Also, plot the line for each of the lm model."
   ]
  },
  {
   "cell_type": "code",
   "execution_count": null,
   "metadata": {
    "collapsed": false
   },
   "outputs": [],
   "source": [
    "origin <- lm(I(A) ~ I(G)+0, data=mydata)\n",
    "summary(origin)\n",
    "with(mydata,plot(G,A,main = \"Goals Vs Assists\",xlab = \"Goals\",ylab = \"Assists\",col=\"blue\",xlim=c(0,1000),ylim=c(0,2000)))\n",
    "text(800,1900, \"Wayne Gretzky\",    cex = 1)\n",
    "text(280,400, \"Patrick Kane\",    cex = 1)\n",
    "abline(origin)\n",
    "df[nrow(df) + 1, ] <- c( \"original-origin\",summary(origin)$r.squared,summary(origin)$coefficients[1,4]) \n",
    "origin <- lm(I(A-wa) ~ I(G-wg)+0, data=mydata)\n",
    "summary(origin)\n",
    "df[nrow(df) + 1, ] <- c( \"Wayne Gretzky-Origin\",summary(origin)$r.squared,summary(origin)$coefficients[1,4])\n",
    "origin <- lm(I(wa) ~ I(wg)+0, data=mydata)\n",
    "abline(origin,col=\"red\")\n",
    "origin <- lm(I(A-pa) ~ I(G-pg)+0, data=mydata)\n",
    "summary(origin)\n",
    "df[nrow(df) + 1, ] <- c( \"Patrick Kane-origin\",summary(origin)$r.squared,summary(origin)$coefficients[1,4]) \n",
    "origin <- lm(I(pa) ~ I(pg)+0, data=mydata)\n",
    "abline(origin,col=\"green\")"
   ]
  },
  {
   "cell_type": "markdown",
   "metadata": {},
   "source": [
    "**e. Create a table of model names (reference), R2 and p values of the fit. Interpret your results.**"
   ]
  },
  {
   "cell_type": "code",
   "execution_count": null,
   "metadata": {
    "collapsed": false
   },
   "outputs": [],
   "source": [
    "df"
   ]
  },
  {
   "cell_type": "markdown",
   "metadata": {},
   "source": [
    "R-square value is the variation explained by the model.  The greater R-square the better the model.A low p-value (< 0.05) indicates that we can reject the null hypothesis. Thus, a low P value is desired as it is more likely to be a meaningful addition to our model because changes in the response variable is directly proportional to changes in the predictor's value.\". So if the p-value is less than the significance level (usually 0.05) then your model fits the data well.\n",
    "\n",
    "1) For low R-square and low p-value (p-value <= 0.05) means that model doesn't explain much of variation of the data but it is significant .\n",
    "\n",
    "2) low R-square and high p-value (p-value > 0.05) means that model doesn't explain much of variation of the data and it is not significant (worst scenario)\n",
    "\n",
    "3) high R-square and low p-value means your model explains a lot of variation within the data and is significant (best scenario)\n",
    "\n",
    "4) high R-square and high p-value means that your model explains a lot of variation within the data but is not significant \n",
    "\n",
    "As we can see,\n",
    "For models passing through origin the Rsquared values is higher and pvalues are less.Thus, we can say that lm models passing through origin gives better results then the original models."
   ]
  }
 ],
 "metadata": {
  "kernelspec": {
   "display_name": "R",
   "language": "R",
   "name": "ir"
  },
  "language_info": {
   "codemirror_mode": "r",
   "file_extension": ".r",
   "mimetype": "text/x-r-source",
   "name": "R",
   "pygments_lexer": "r",
   "version": "3.3.2"
  }
 },
 "nbformat": 4,
 "nbformat_minor": 2
}
