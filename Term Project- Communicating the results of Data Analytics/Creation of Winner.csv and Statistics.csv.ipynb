{
 "cells": [
  {
   "cell_type": "markdown",
   "metadata": {
    "collapsed": false
   },
   "source": [
    "                                                                                                Saurabh Bajoria    Vidhi Shah\n",
    "                                                                                          UBid: sbajoria           vidhijat\n",
    "                                                                                      Person no:50208005           50207009\n",
    "                                                                                                         \n",
    "\n",
    "**CSE 4/587 Data Intensive Computing**\n",
    "====================\n",
    "***FINAL PROJECT: COMMUNICATING THE RESULTS OF DATA ANALYTICS***\n",
    "---------------------------------------\n",
    "                                                                                                       \n",
    "\n",
    "*Creation of CSV FILES Statistics and Winner*\n",
    "--------------------------------------\n",
    "\n",
    "\n",
    " \n",
    "\n",
    "- Installing and Importing Libraries required"
   ]
  },
  {
   "cell_type": "code",
   "execution_count": null,
   "metadata": {
    "collapsed": false,
    "scrolled": true
   },
   "outputs": [],
   "source": [
    "install.packages(\"dplyr\", repos = \"http://cran.us.r-project.org\")\n",
    "install.packages(\"sqldf\", repos = \"http://cran.us.r-project.org\")"
   ]
  },
  {
   "cell_type": "code",
   "execution_count": 32,
   "metadata": {
    "collapsed": false
   },
   "outputs": [],
   "source": [
    "library(dplyr)\n",
    "library(sqldf)"
   ]
  },
  {
   "cell_type": "markdown",
   "metadata": {},
   "source": [
    "- Importing the file deliveries.csv\n",
    "- Counting the batsman_runs and grouping by batsman to get the total runs scored by a batsman\n",
    "- Storing the result in a dataframe Runs"
   ]
  },
  {
   "cell_type": "code",
   "execution_count": 27,
   "metadata": {
    "collapsed": true
   },
   "outputs": [],
   "source": [
    "Runs<- read.csv.sql(\"deliveries.csv\", \n",
    "    sql = \"select batsman as Player,count(batsman_runs) as Runs from file group by batsman\",\n",
    "eol=\"\\n\")"
   ]
  },
  {
   "cell_type": "markdown",
   "metadata": {},
   "source": [
    "- Importing the file deliveries.csv\n",
    "- Counting the player_dismissed and grouping by bowler to get the total wickets taken by a bowler\n",
    "- Storing the result in a dataframe Wickets"
   ]
  },
  {
   "cell_type": "code",
   "execution_count": 28,
   "metadata": {
    "collapsed": false
   },
   "outputs": [
    {
     "name": "stderr",
     "output_type": "stream",
     "text": [
      "Warning message:\n",
      "\"closing unused connection 8 (A:\\Semester 2\\DIC\\Term Project\\TermProjectData\\deliveries.csv)\"Warning message:\n",
      "\"closing unused connection 7 (A:\\Semester 2\\DIC\\Term Project\\TermProjectData\\deliveries.csv)\"Warning message:\n",
      "\"closing unused connection 4 (A:\\Semester 2\\DIC\\Term Project\\TermProjectData\\deliveries.csv)\""
     ]
    }
   ],
   "source": [
    "Wickets<- read.csv.sql(\"deliveries.csv\", \n",
    "    sql = \"select bowler as Player,count(player_dismissed) as Wickets from file where player_dismissed !='' group by bowler\",\n",
    "eol=\"\\n\")"
   ]
  },
  {
   "cell_type": "markdown",
   "metadata": {},
   "source": [
    "- Writing the UNION of dataframes Wickets and Runs"
   ]
  },
  {
   "cell_type": "code",
   "execution_count": 29,
   "metadata": {
    "collapsed": false
   },
   "outputs": [],
   "source": [
    "write.csv(sqldf(\"SELECT Player,Runs , Wickets\n",
    "              FROM Runs LEFT JOIN Wickets USING(Player) UNION SELECT Player,Runs , Wickets\n",
    "              FROM Wickets LEFT JOIN Runs USING(Player)\"),\n",
    "file = \"Statistics.csv\",row.names=FALSE)"
   ]
  },
  {
   "cell_type": "markdown",
   "metadata": {},
   "source": [
    "- Reading the csv file matches.csv in a dataframe Matches"
   ]
  },
  {
   "cell_type": "code",
   "execution_count": 94,
   "metadata": {
    "collapsed": true
   },
   "outputs": [],
   "source": [
    "Matches<-read.csv(\"matches.csv\")"
   ]
  },
  {
   "cell_type": "markdown",
   "metadata": {},
   "source": [
    "- Counting the total number of matches won by each team each year and writing the result in a csv Winner.csv"
   ]
  },
  {
   "cell_type": "code",
   "execution_count": 95,
   "metadata": {
    "collapsed": false
   },
   "outputs": [],
   "source": [
    "write.csv(sqldf(\"select season as Year,winner as team,count(winner) from Matches where winner != '' group by winner,season\"),\n",
    "file=\"Winner.csv\",row.names=FALSE)"
   ]
  },
  {
   "cell_type": "code",
   "execution_count": null,
   "metadata": {
    "collapsed": true
   },
   "outputs": [],
   "source": []
  }
 ],
 "metadata": {
  "kernelspec": {
   "display_name": "R",
   "language": "R",
   "name": "ir"
  },
  "language_info": {
   "codemirror_mode": "r",
   "file_extension": ".r",
   "mimetype": "text/x-r-source",
   "name": "R",
   "pygments_lexer": "r",
   "version": "3.3.2"
  }
 },
 "nbformat": 4,
 "nbformat_minor": 2
}
