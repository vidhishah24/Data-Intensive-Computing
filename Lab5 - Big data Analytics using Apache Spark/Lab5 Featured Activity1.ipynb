{
 "cells": [
  {
   "cell_type": "markdown",
   "metadata": {},
   "source": [
    "                                                                                                 Vidhi Shah   Saurabh Bajoria\n",
    "                                                                                                UBid: vidhijat  sbajoria\n",
    "                                                                                            Person no:50207090  50208005\n",
    "\n",
    "**CSE 4/587 Data Intensive Computing**\n",
    "====================\n",
    "***LAB 5: PROGRAMMING THE DATAFLOW FOR BIG DATA ANALYTICS USING APACHE SPARK***\n",
    "---------------------------------------\n",
    "                                                                                                       \n",
    "\n",
    "*Featured Activity1: Analysis of Latin Documents for word-co-occurence: Bigrams and Trigrams*\n",
    "--------------------------------------\n",
    "\n",
    "\n",
    "\n",
    "\n",
    "- Importing Libraries required"
   ]
  },
  {
   "cell_type": "code",
   "execution_count": 1,
   "metadata": {
    "collapsed": false
   },
   "outputs": [],
   "source": [
    "import csv\n",
    "import datetime\n",
    "import string\n",
    "import re"
   ]
  },
  {
   "cell_type": "markdown",
   "metadata": {},
   "source": [
    "- Creating a dictionary for storing the original words with its lemmatizations\n",
    "- File used: new_lemmatizer.csv"
   ]
  },
  {
   "cell_type": "code",
   "execution_count": 2,
   "metadata": {
    "collapsed": true
   },
   "outputs": [],
   "source": [
    "with open('new_lemmatizer.csv',encoding='utf8') as f: \n",
    "    reader = csv.reader(f)\n",
    "    mydict = {rows[0]:rows[0:] for rows in reader}"
   ]
  },
  {
   "cell_type": "markdown",
   "metadata": {},
   "source": [
    "- Creating a new SparkContext"
   ]
  },
  {
   "cell_type": "code",
   "execution_count": 3,
   "metadata": {
    "collapsed": false
   },
   "outputs": [],
   "source": [
    "sc = SparkContext.getOrCreate()"
   ]
  },
  {
   "cell_type": "markdown",
   "metadata": {},
   "source": [
    " **lemmatizeBigram**\n",
    "- Creating a method to calculate the Bigrams\n",
    "- Splitting each line into two parts: Location and text\n",
    "- Cleaning the text, i.e. removing extra spaces and non alphanumeric characters\n",
    "- Replacing v with u and j with i\n",
    "- Calculating neighbours in each line and finding the corresponding lemmas for the same\n",
    "- Appending the neighbour words (word1, word2) with its location to a list\n",
    "- Appending the permutations of the corresponding lemmas for word1 and word2 along with its location to the same list\n",
    "- Returning the list"
   ]
  },
  {
   "cell_type": "code",
   "execution_count": 4,
   "metadata": {
    "collapsed": false
   },
   "outputs": [],
   "source": [
    "def lemmatizeBigram(line) :\n",
    "    fields = line.split(\">\", 1)\n",
    "    fields[1]=fields[1].lstrip().lower().replace('v','u').replace('j','i')\n",
    "    fields[1]=re.sub('[^A-Za-z0-9 ]+', '', fields[1])\n",
    "    location=fields[0]+\">\"\n",
    "    tokens=' '.join(fields[1:]).split(' ')\n",
    "    lemmatizedValues=[]\n",
    "    for i in range(0,(len(tokens)-1)):\n",
    "        if tokens[i] in mydict:\n",
    "            firstlist=mydict.get(tokens[i])\n",
    "        else:\n",
    "            firstlist=[tokens[i]]\n",
    "        for j in range (i+1,(len(tokens))):\n",
    "            if tokens[j] in mydict:\n",
    "                secondlist=mydict.get(tokens[j])\n",
    "            else:\n",
    "                secondlist=[tokens[j]]\n",
    "            for first in [x for x in firstlist if x]:\n",
    "                for second in [x for x in secondlist if x] :\n",
    "                    lemmatizedValues.append([','.join([first,second]),[location]])\n",
    "    return lemmatizedValues\n"
   ]
  },
  {
   "cell_type": "markdown",
   "metadata": {},
   "source": [
    " **lemmatizeTrigram**\n",
    "- Creating a method to calculate the Trigrams\n",
    "- Splitting each line into two parts: Location and text\n",
    "- Cleaning the text, i.e. removing extra spaces and non alphanumeric characters\n",
    "- Replacing v with u and j with i\n",
    "- Calculating neighbours in each line and finding the corresponding lemmas for the same\n",
    "- Appending the neighbour words (word1, word2, word3) with its location to a list\n",
    "- Appending the permutations of the corresponding lemmas for word1, word2 and word3 along with its location to the same list\n",
    "- Returning the list"
   ]
  },
  {
   "cell_type": "code",
   "execution_count": 5,
   "metadata": {
    "collapsed": true
   },
   "outputs": [],
   "source": [
    "def lemmatizeTrigram(line) :\n",
    "    fields = line.split(\">\", 1)\n",
    "    fields[1]=fields[1].lstrip().lower().replace('v','u').replace('j','i')\n",
    "    fields[1]=re.sub('[^A-Za-z0-9 ]+', '', fields[1])\n",
    "    location=fields[0]+\">\"\n",
    "    tokens=' '.join(fields[1:]).split(' ')\n",
    "    lemmatizedValues=[]\n",
    "    for i in range(0,(len(tokens)-2)):\n",
    "        if tokens[i] in mydict:\n",
    "            firstlist=mydict.get(tokens[i])\n",
    "        else:\n",
    "            firstlist=[tokens[i]]\n",
    "        for j in range (i+1,(len(tokens)-1)):\n",
    "            if tokens[j] in mydict:\n",
    "                secondlist=mydict.get(tokens[j])\n",
    "            else:\n",
    "                secondlist=[tokens[j]]\n",
    "            for k in range (j+1,(len(tokens))):\n",
    "                if tokens[k] in mydict:\n",
    "                    thirdlist=mydict.get(tokens[k])\n",
    "                else:\n",
    "                    thirdlist=[tokens[k]]\n",
    "            for first in [x for x in firstlist if x]:\n",
    "                for second in [x for x in secondlist if x] :\n",
    "                    for third in [x for x in thirdlist if x] :\n",
    "                        lemmatizedValues.append([','.join([first,second,third]),[location]])\n",
    "    return lemmatizedValues\n"
   ]
  },
  {
   "cell_type": "markdown",
   "metadata": {},
   "source": [
    "- Reading the inputs from a folder by varying the number of files\n",
    "- calling the method lemmatizeBigram and applying flatmap on the obtained list\n",
    "- Saving the ouotput to a output Folder Specified\n",
    "- Also, calculating the time taken for the execution by noting down the start time and the end time\n",
    "\n",
    "\n",
    "- Below is the execution time for 20 files"
   ]
  },
  {
   "cell_type": "code",
   "execution_count": 8,
   "metadata": {
    "collapsed": false
   },
   "outputs": [
    {
     "name": "stdout",
     "output_type": "stream",
     "text": [
      "Time taken by bigrams 44599  milliseconds\n"
     ]
    }
   ],
   "source": [
    "a = datetime.datetime.now()\n",
    "lines = sc.textFile('Input\\\\')\\\n",
    ".filter(lambda x: len(x.split(\">\"))!=1).flatMap(lemmatizeBigram)\\\n",
    ".reduceByKey(lambda x,y:x+y).saveAsTextFile('OutputBigram')\n",
    "b = datetime.datetime.now()\n",
    "print('Time taken by bigrams',int((b - a).total_seconds()*1000),' milliseconds')"
   ]
  },
  {
   "cell_type": "markdown",
   "metadata": {},
   "source": [
    "- Reading the inputs from a folder by varying the number of files\n",
    "- calling the method lemmatizeTrigram and applying flatmap on the obtained list\n",
    "- Saving the ouotput to a output Folder Specified\n",
    "- Also, calculating the time taken for the execution by noting down the start time and the end time\n",
    "\n",
    "\n",
    "- Below is the execution time for 20 files"
   ]
  },
  {
   "cell_type": "code",
   "execution_count": 10,
   "metadata": {
    "collapsed": false
   },
   "outputs": [
    {
     "name": "stdout",
     "output_type": "stream",
     "text": [
      "Time taken by trigrams 80377  milliseconds\n"
     ]
    }
   ],
   "source": [
    "a = datetime.datetime.now()\n",
    "lines = sc.textFile('Input\\\\')\\\n",
    ".filter(lambda x: len(x.split(\">\"))!=1).flatMap(lemmatizeTrigram)\\\n",
    ".reduceByKey(lambda x,y:x+y).saveAsTextFile('OutputTrigram')\n",
    "b = datetime.datetime.now()\n",
    "print('Time taken by trigrams',int((b - a).total_seconds()*1000),' milliseconds')"
   ]
  },
  {
   "cell_type": "code",
   "execution_count": null,
   "metadata": {
    "collapsed": true
   },
   "outputs": [],
   "source": []
  }
 ],
 "metadata": {
  "kernelspec": {
   "display_name": "Python 3",
   "language": "python",
   "name": "python3"
  },
  "language_info": {
   "codemirror_mode": {
    "name": "ipython",
    "version": 3
   },
   "file_extension": ".py",
   "mimetype": "text/x-python",
   "name": "python",
   "nbconvert_exporter": "python",
   "pygments_lexer": "ipython3",
   "version": "3.6.0"
  }
 },
 "nbformat": 4,
 "nbformat_minor": 2
}
